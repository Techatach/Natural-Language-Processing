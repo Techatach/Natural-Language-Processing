{
 "cells": [
  {
   "cell_type": "markdown",
   "metadata": {},
   "source": [
    "ระบบแนะนำภาพยนต์"
   ]
  },
  {
   "cell_type": "code",
   "execution_count": 70,
   "metadata": {},
   "outputs": [
    {
     "data": {
      "text/html": [
       "<div>\n",
       "<style scoped>\n",
       "    .dataframe tbody tr th:only-of-type {\n",
       "        vertical-align: middle;\n",
       "    }\n",
       "\n",
       "    .dataframe tbody tr th {\n",
       "        vertical-align: top;\n",
       "    }\n",
       "\n",
       "    .dataframe thead th {\n",
       "        text-align: right;\n",
       "    }\n",
       "</style>\n",
       "<table border=\"1\" class=\"dataframe\">\n",
       "  <thead>\n",
       "    <tr style=\"text-align: right;\">\n",
       "      <th></th>\n",
       "      <th>MovieID</th>\n",
       "      <th>Title</th>\n",
       "      <th>MPAA Rating</th>\n",
       "      <th>Budget</th>\n",
       "      <th>Gross</th>\n",
       "      <th>Release Date</th>\n",
       "      <th>Genre</th>\n",
       "      <th>Runtime</th>\n",
       "      <th>Rating</th>\n",
       "      <th>Rating Count</th>\n",
       "      <th>Summary</th>\n",
       "    </tr>\n",
       "  </thead>\n",
       "  <tbody>\n",
       "    <tr>\n",
       "      <th>0</th>\n",
       "      <td>1.0</td>\n",
       "      <td>Look Who's Talking</td>\n",
       "      <td>PG-13</td>\n",
       "      <td>7500000.0</td>\n",
       "      <td>296000000.0</td>\n",
       "      <td>1989-10-12</td>\n",
       "      <td>Romance</td>\n",
       "      <td>93.0</td>\n",
       "      <td>5.9</td>\n",
       "      <td>73638.0</td>\n",
       "      <td>After a single, career-minded woman is left on...</td>\n",
       "    </tr>\n",
       "    <tr>\n",
       "      <th>1</th>\n",
       "      <td>2.0</td>\n",
       "      <td>Driving Miss Daisy</td>\n",
       "      <td>PG</td>\n",
       "      <td>7500000.0</td>\n",
       "      <td>145793296.0</td>\n",
       "      <td>1989-12-13</td>\n",
       "      <td>Comedy</td>\n",
       "      <td>99.0</td>\n",
       "      <td>7.4</td>\n",
       "      <td>91075.0</td>\n",
       "      <td>An old Jewish woman and her African-American c...</td>\n",
       "    </tr>\n",
       "    <tr>\n",
       "      <th>2</th>\n",
       "      <td>3.0</td>\n",
       "      <td>Turner &amp; Hooch</td>\n",
       "      <td>PG</td>\n",
       "      <td>13000000.0</td>\n",
       "      <td>71079915.0</td>\n",
       "      <td>1989-07-28</td>\n",
       "      <td>Crime</td>\n",
       "      <td>100.0</td>\n",
       "      <td>7.2</td>\n",
       "      <td>91415.0</td>\n",
       "      <td>Det. Scott Turner (Tom Hanks) is an uptight, b...</td>\n",
       "    </tr>\n",
       "    <tr>\n",
       "      <th>3</th>\n",
       "      <td>4.0</td>\n",
       "      <td>Born on the Fourth of July</td>\n",
       "      <td>R</td>\n",
       "      <td>14000000.0</td>\n",
       "      <td>161001698.0</td>\n",
       "      <td>1989-12-20</td>\n",
       "      <td>War</td>\n",
       "      <td>145.0</td>\n",
       "      <td>7.2</td>\n",
       "      <td>91415.0</td>\n",
       "      <td>The biography of Ron Kovic. Paralyzed in the V...</td>\n",
       "    </tr>\n",
       "    <tr>\n",
       "      <th>4</th>\n",
       "      <td>5.0</td>\n",
       "      <td>Field of Dreams</td>\n",
       "      <td>PG</td>\n",
       "      <td>15000000.0</td>\n",
       "      <td>84431625.0</td>\n",
       "      <td>1989-04-21</td>\n",
       "      <td>Drama</td>\n",
       "      <td>107.0</td>\n",
       "      <td>7.5</td>\n",
       "      <td>101702.0</td>\n",
       "      <td>An Iowa corn farmer, hearing voices, interpret...</td>\n",
       "    </tr>\n",
       "    <tr>\n",
       "      <th>...</th>\n",
       "      <td>...</td>\n",
       "      <td>...</td>\n",
       "      <td>...</td>\n",
       "      <td>...</td>\n",
       "      <td>...</td>\n",
       "      <td>...</td>\n",
       "      <td>...</td>\n",
       "      <td>...</td>\n",
       "      <td>...</td>\n",
       "      <td>...</td>\n",
       "      <td>...</td>\n",
       "    </tr>\n",
       "    <tr>\n",
       "      <th>505</th>\n",
       "      <td>506.0</td>\n",
       "      <td>Big Hero 6</td>\n",
       "      <td>PG</td>\n",
       "      <td>165000000.0</td>\n",
       "      <td>652105443.0</td>\n",
       "      <td>2014-10-24</td>\n",
       "      <td>Animation</td>\n",
       "      <td>102.0</td>\n",
       "      <td>7.8</td>\n",
       "      <td>380953.0</td>\n",
       "      <td>The special bond that develops between plus-si...</td>\n",
       "    </tr>\n",
       "    <tr>\n",
       "      <th>506</th>\n",
       "      <td>507.0</td>\n",
       "      <td>Interstellar</td>\n",
       "      <td>PG-13</td>\n",
       "      <td>165000000.0</td>\n",
       "      <td>675120017.0</td>\n",
       "      <td>2014-11-05</td>\n",
       "      <td>Science Fiction</td>\n",
       "      <td>169.0</td>\n",
       "      <td>8.6</td>\n",
       "      <td>1343549.0</td>\n",
       "      <td>A team of explorers travel through a wormhole ...</td>\n",
       "    </tr>\n",
       "    <tr>\n",
       "      <th>507</th>\n",
       "      <td>508.0</td>\n",
       "      <td>Captain America: The Winter Soldier</td>\n",
       "      <td>PG-13</td>\n",
       "      <td>170000000.0</td>\n",
       "      <td>714766572.0</td>\n",
       "      <td>2014-03-20</td>\n",
       "      <td>Action</td>\n",
       "      <td>136.0</td>\n",
       "      <td>7.7</td>\n",
       "      <td>685903.0</td>\n",
       "      <td>As Steve Rogers struggles to embrace his role ...</td>\n",
       "    </tr>\n",
       "    <tr>\n",
       "      <th>508</th>\n",
       "      <td>509.0</td>\n",
       "      <td>Dawn of the Planet of the Apes</td>\n",
       "      <td>PG-13</td>\n",
       "      <td>170000000.0</td>\n",
       "      <td>710644566.0</td>\n",
       "      <td>2014-06-26</td>\n",
       "      <td>Science Fiction</td>\n",
       "      <td>130.0</td>\n",
       "      <td>7.6</td>\n",
       "      <td>395425.0</td>\n",
       "      <td>A growing nation of genetically evolved apes l...</td>\n",
       "    </tr>\n",
       "    <tr>\n",
       "      <th>509</th>\n",
       "      <td>510.0</td>\n",
       "      <td>Guardians of the Galaxy</td>\n",
       "      <td>PG-13</td>\n",
       "      <td>170000000.0</td>\n",
       "      <td>773328629.0</td>\n",
       "      <td>2014-07-30</td>\n",
       "      <td>Action</td>\n",
       "      <td>121.0</td>\n",
       "      <td>8.0</td>\n",
       "      <td>978222.0</td>\n",
       "      <td>A group of intergalactic criminals must pull t...</td>\n",
       "    </tr>\n",
       "  </tbody>\n",
       "</table>\n",
       "<p>496 rows × 11 columns</p>\n",
       "</div>"
      ],
      "text/plain": [
       "     MovieID                                Title MPAA Rating       Budget  \\\n",
       "0        1.0                   Look Who's Talking       PG-13    7500000.0   \n",
       "1        2.0                   Driving Miss Daisy          PG    7500000.0   \n",
       "2        3.0                       Turner & Hooch          PG   13000000.0   \n",
       "3        4.0           Born on the Fourth of July           R   14000000.0   \n",
       "4        5.0                      Field of Dreams          PG   15000000.0   \n",
       "..       ...                                  ...         ...          ...   \n",
       "505    506.0                           Big Hero 6          PG  165000000.0   \n",
       "506    507.0                         Interstellar       PG-13  165000000.0   \n",
       "507    508.0  Captain America: The Winter Soldier       PG-13  170000000.0   \n",
       "508    509.0       Dawn of the Planet of the Apes       PG-13  170000000.0   \n",
       "509    510.0              Guardians of the Galaxy       PG-13  170000000.0   \n",
       "\n",
       "           Gross Release Date            Genre  Runtime  Rating  Rating Count  \\\n",
       "0    296000000.0   1989-10-12          Romance     93.0     5.9       73638.0   \n",
       "1    145793296.0   1989-12-13           Comedy     99.0     7.4       91075.0   \n",
       "2     71079915.0   1989-07-28            Crime    100.0     7.2       91415.0   \n",
       "3    161001698.0   1989-12-20              War    145.0     7.2       91415.0   \n",
       "4     84431625.0   1989-04-21            Drama    107.0     7.5      101702.0   \n",
       "..           ...          ...              ...      ...     ...           ...   \n",
       "505  652105443.0   2014-10-24        Animation    102.0     7.8      380953.0   \n",
       "506  675120017.0   2014-11-05  Science Fiction    169.0     8.6     1343549.0   \n",
       "507  714766572.0   2014-03-20           Action    136.0     7.7      685903.0   \n",
       "508  710644566.0   2014-06-26  Science Fiction    130.0     7.6      395425.0   \n",
       "509  773328629.0   2014-07-30           Action    121.0     8.0      978222.0   \n",
       "\n",
       "                                               Summary  \n",
       "0    After a single, career-minded woman is left on...  \n",
       "1    An old Jewish woman and her African-American c...  \n",
       "2    Det. Scott Turner (Tom Hanks) is an uptight, b...  \n",
       "3    The biography of Ron Kovic. Paralyzed in the V...  \n",
       "4    An Iowa corn farmer, hearing voices, interpret...  \n",
       "..                                                 ...  \n",
       "505  The special bond that develops between plus-si...  \n",
       "506  A team of explorers travel through a wormhole ...  \n",
       "507  As Steve Rogers struggles to embrace his role ...  \n",
       "508  A growing nation of genetically evolved apes l...  \n",
       "509  A group of intergalactic criminals must pull t...  \n",
       "\n",
       "[496 rows x 11 columns]"
      ]
     },
     "execution_count": 70,
     "metadata": {},
     "output_type": "execute_result"
    }
   ],
   "source": [
    "# data = df.rename(columns={\"Animation|Children's|Comedy\":'topics'})\n",
    "\n",
    "import pandas as pd \n",
    "import numpy as np \n",
    "from sklearn.feature_extraction.text import CountVectorizer\n",
    "from sklearn.metrics.pairwise import cosine_similarity\n",
    "\n",
    "df = pd.read_csv('movies.csv').dropna()\n",
    "df"
   ]
  },
  {
   "cell_type": "code",
   "execution_count": 74,
   "metadata": {},
   "outputs": [
    {
     "name": "stdout",
     "output_type": "stream",
     "text": [
      "<class 'pandas.core.frame.DataFrame'>\n",
      "Int64Index: 496 entries, 0 to 509\n",
      "Data columns (total 11 columns):\n",
      " #   Column        Non-Null Count  Dtype  \n",
      "---  ------        --------------  -----  \n",
      " 0   MovieID       496 non-null    float64\n",
      " 1   Title         496 non-null    object \n",
      " 2   MPAA Rating   496 non-null    object \n",
      " 3   Budget        496 non-null    float64\n",
      " 4   Gross         496 non-null    float64\n",
      " 5   Release Date  496 non-null    object \n",
      " 6   Genre         496 non-null    object \n",
      " 7   Runtime       496 non-null    float64\n",
      " 8   Rating        496 non-null    float64\n",
      " 9   Rating Count  496 non-null    float64\n",
      " 10  Summary       496 non-null    object \n",
      "dtypes: float64(6), object(5)\n",
      "memory usage: 46.5+ KB\n"
     ]
    }
   ],
   "source": [
    "df.info()"
   ]
  },
  {
   "cell_type": "code",
   "execution_count": 63,
   "metadata": {},
   "outputs": [
    {
     "data": {
      "text/plain": [
       "MovieID         0\n",
       "Title           0\n",
       "MPAA Rating     0\n",
       "Budget          0\n",
       "Gross           0\n",
       "Release Date    0\n",
       "Genre           0\n",
       "Runtime         0\n",
       "Rating          0\n",
       "Rating Count    0\n",
       "Summary         0\n",
       "dtype: int64"
      ]
     },
     "execution_count": 63,
     "metadata": {},
     "output_type": "execute_result"
    }
   ],
   "source": [
    "#ดูข้อมูลที่สูญหาย (Missing data)\n",
    "df.isnull().sum()"
   ]
  },
  {
   "cell_type": "code",
   "execution_count": 64,
   "metadata": {},
   "outputs": [
    {
     "data": {
      "text/plain": [
       "1      Comedy\n",
       "8      Comedy\n",
       "9      Comedy\n",
       "10     Comedy\n",
       "14     Comedy\n",
       "        ...  \n",
       "456    Comedy\n",
       "476    Comedy\n",
       "479    Comedy\n",
       "495    Comedy\n",
       "496    Comedy\n",
       "Name: Genre, Length: 92, dtype: object"
      ]
     },
     "execution_count": 64,
     "metadata": {},
     "output_type": "execute_result"
    }
   ],
   "source": [
    "#ค้นหาชื่อภาพยนต์\n",
    "df[df.Genre.str.contains('Comedy', case='False')].Genre"
   ]
  },
  {
   "cell_type": "code",
   "execution_count": 72,
   "metadata": {},
   "outputs": [
    {
     "data": {
      "text/plain": [
       "MovieID                                                     468.0\n",
       "Title                                 Snow White and the Huntsman\n",
       "MPAA Rating                                                 PG-13\n",
       "Budget                                                170000000.0\n",
       "Gross                                                 396600000.0\n",
       "Release Date                                           2012-05-30\n",
       "Genre                                                     Fantasy\n",
       "Runtime                                                     127.0\n",
       "Rating                                                        6.1\n",
       "Rating Count                                             262152.0\n",
       "Summary         In a twist to the fairy tale, the Huntsman ord...\n",
       "Name: 467, dtype: object"
      ]
     },
     "execution_count": 72,
     "metadata": {},
     "output_type": "execute_result"
    }
   ],
   "source": [
    "#ต้องการดูว่าภาพยนต์แถวที่ 456 มีอะไรบ้าง \n",
    "df.iloc[456]"
   ]
  },
  {
   "cell_type": "code",
   "execution_count": 73,
   "metadata": {},
   "outputs": [
    {
     "name": "stdout",
     "output_type": "stream",
     "text": [
      "MovieID : 468.0\n",
      "____________\n",
      "Title : Snow White and the Huntsman\n",
      "____________\n",
      "MPAA Rating : PG-13\n",
      "____________\n",
      "Budget : 170000000.0\n",
      "____________\n",
      "Gross : 396600000.0\n",
      "____________\n",
      "Release Date : 2012-05-30\n",
      "____________\n",
      "Genre : Fantasy\n",
      "____________\n",
      "Runtime : 127.0\n",
      "____________\n",
      "Rating : 6.1\n",
      "____________\n",
      "Rating Count : 262152.0\n",
      "____________\n",
      "Summary : In a twist to the fairy tale, the Huntsman ordered to take Snow White into the woods to be killed winds up becoming her protector and mentor in a quest to vanquish the Evil Queen.\n",
      "____________\n"
     ]
    }
   ],
   "source": [
    "#ดูรายละเอียดหมดทุกคอลัมน์\n",
    "\n",
    "for k in df.columns:\n",
    "    print(k, ':', df[k].iloc[456])\n",
    "    print('____________')"
   ]
  },
  {
   "cell_type": "code",
   "execution_count": 80,
   "metadata": {},
   "outputs": [
    {
     "data": {
      "text/plain": [
       "Index(['MovieID', 'Title', 'MPAA Rating', 'Budget', 'Gross', 'Release Date',\n",
       "       'Genre', 'Runtime', 'Rating', 'Rating Count', 'Summary'],\n",
       "      dtype='object')"
      ]
     },
     "execution_count": 80,
     "metadata": {},
     "output_type": "execute_result"
    }
   ],
   "source": [
    "df.columns"
   ]
  },
  {
   "cell_type": "code",
   "execution_count": 81,
   "metadata": {},
   "outputs": [
    {
     "data": {
      "text/plain": [
       "Title      0\n",
       "Genre      0\n",
       "Summary    0\n",
       "dtype: int64"
      ]
     },
     "execution_count": 81,
     "metadata": {},
     "output_type": "execute_result"
    }
   ],
   "source": [
    "features = ['Title','Genre','Summary']\n",
    "df[features].isnull().sum()"
   ]
  },
  {
   "cell_type": "markdown",
   "metadata": {},
   "source": [
    "ทำการรวมคอลัมน์ ['Title','Genre','Summary'] ให้เป็นคอลัมน์เดียว"
   ]
  },
  {
   "cell_type": "code",
   "execution_count": 82,
   "metadata": {},
   "outputs": [],
   "source": [
    "df['combined_features'] = df.Title + '' + df.Genre + '' + df.Summary"
   ]
  },
  {
   "cell_type": "code",
   "execution_count": 85,
   "metadata": {},
   "outputs": [
    {
     "data": {
      "text/plain": [
       "0    Look Who's TalkingRomanceAfter a single, caree...\n",
       "1    Driving Miss DaisyComedyAn old Jewish woman an...\n",
       "2    Turner & HoochCrimeDet. Scott Turner (Tom Hank...\n",
       "3    Born on the Fourth of JulyWarThe biography of ...\n",
       "4    Field of DreamsDramaAn Iowa corn farmer, heari...\n",
       "Name: combined_features, dtype: object"
      ]
     },
     "execution_count": 85,
     "metadata": {},
     "output_type": "execute_result"
    }
   ],
   "source": [
    "df.combined_features.head()"
   ]
  },
  {
   "cell_type": "code",
   "execution_count": 86,
   "metadata": {},
   "outputs": [
    {
     "data": {
      "text/plain": [
       "\"Look Who's TalkingRomanceAfter a single, career-minded woman is left on her own to give birth to the child of a married man, she finds a new romantic chance in a cab driver. Meanwhile, the point-of-view of the newborn boy is narrated through voice-over.\""
      ]
     },
     "execution_count": 86,
     "metadata": {},
     "output_type": "execute_result"
    }
   ],
   "source": [
    "df.iloc[0].combined_features\n",
    "df.combined_features[0]"
   ]
  },
  {
   "cell_type": "markdown",
   "metadata": {},
   "source": [
    "การประมวลผล คือการคำนวณหาค่าความคล้าย "
   ]
  },
  {
   "cell_type": "code",
   "execution_count": 103,
   "metadata": {},
   "outputs": [
    {
     "data": {
      "text/plain": [
       "(496, 4362)"
      ]
     },
     "execution_count": 103,
     "metadata": {},
     "output_type": "execute_result"
    }
   ],
   "source": [
    "from sklearn.feature_extraction.text import CountVectorizer\n",
    "from sklearn.metrics.pairwise import cosine_similarity\n",
    "\n",
    "#ตรวจสอบขนาดของ matrix \n",
    "cv = CountVectorizer()\n",
    "count_matrix = cv.fit_transform(df.combined_features)\n",
    "count_matrix.shape"
   ]
  },
  {
   "cell_type": "code",
   "execution_count": 104,
   "metadata": {},
   "outputs": [
    {
     "name": "stdout",
     "output_type": "stream",
     "text": [
      "['00', '000', '007', '101', '11', '11dramamichael', '12', '13', '13dramanasa', '1885']\n",
      "['yuppie', 'zefram', 'zeus', 'zion', 'zombie', 'zone', 'zoo', 'zorro', 'zorroactiona', 'zscience']\n"
     ]
    },
    {
     "name": "stderr",
     "output_type": "stream",
     "text": [
      "C:\\Users\\Techatach\\AppData\\Roaming\\Python\\Python39\\site-packages\\sklearn\\utils\\deprecation.py:87: FutureWarning: Function get_feature_names is deprecated; get_feature_names is deprecated in 1.0 and will be removed in 1.2. Please use get_feature_names_out instead.\n",
      "  warnings.warn(msg, category=FutureWarning)\n"
     ]
    }
   ],
   "source": [
    "#ตรวจสอบตารางค่า 10 ตัวแรก และ 10 ตัวสุดท้าย\n",
    "print(cv.get_feature_names()[0:10])\n",
    "print(cv.get_feature_names()[-10:])"
   ]
  },
  {
   "cell_type": "code",
   "execution_count": 105,
   "metadata": {},
   "outputs": [
    {
     "name": "stdout",
     "output_type": "stream",
     "text": [
      "[[0 0 0 0 0 0 0 0 0 0 0 0 0 0 0 0 0 0 0 0]\n",
      " [0 0 0 0 0 0 0 0 0 0 0 0 0 0 0 0 0 0 0 0]\n",
      " [0 0 0 0 0 0 0 0 0 0 0 0 0 0 0 0 0 0 0 0]\n",
      " [0 0 0 0 0 0 0 0 0 0 0 0 0 0 0 0 0 0 0 0]\n",
      " [0 1 0 0 0 0 0 0 0 0 0 0 0 0 0 0 0 0 0 0]\n",
      " [0 0 0 0 0 0 0 0 0 0 0 0 0 0 0 0 0 0 0 0]\n",
      " [0 0 0 0 0 0 0 0 0 0 0 0 0 0 0 0 0 0 0 0]\n",
      " [0 0 0 0 0 0 0 0 0 0 0 0 0 0 0 0 0 0 0 0]\n",
      " [0 0 0 0 0 0 0 0 0 0 0 0 0 0 0 0 0 0 0 0]\n",
      " [0 0 0 0 0 0 0 0 0 0 0 0 0 0 0 0 0 0 0 0]]\n"
     ]
    }
   ],
   "source": [
    "#แสดงตารางความถี่ \n",
    "print(count_matrix.toarray()[:10, 10:30])"
   ]
  },
  {
   "cell_type": "markdown",
   "metadata": {},
   "source": [
    "คำนวณหาค่าความคล้าย Cosine Similarity"
   ]
  },
  {
   "cell_type": "code",
   "execution_count": 106,
   "metadata": {},
   "outputs": [
    {
     "data": {
      "text/plain": [
       "(496, 496)"
      ]
     },
     "execution_count": 106,
     "metadata": {},
     "output_type": "execute_result"
    }
   ],
   "source": [
    "cosine_sim = cosine_similarity(count_matrix)\n",
    "cosine_sim.shape"
   ]
  },
  {
   "cell_type": "code",
   "execution_count": 107,
   "metadata": {},
   "outputs": [
    {
     "data": {
      "text/plain": [
       "array([[1.        , 0.23769134, 0.36079009, ..., 0.27897624, 0.44067797,\n",
       "        0.40087788],\n",
       "       [0.23769134, 1.        , 0.16865481, ..., 0.23473824, 0.14261481,\n",
       "        0.14054567],\n",
       "       [0.36079009, 0.16865481, 1.        , ..., 0.31341872, 0.31569133,\n",
       "        0.33333333],\n",
       "       ...,\n",
       "       [0.27897624, 0.23473824, 0.31341872, ..., 1.        , 0.16738574,\n",
       "        0.30242157],\n",
       "       [0.44067797, 0.14261481, 0.31569133, ..., 0.16738574, 1.        ,\n",
       "        0.40087788],\n",
       "       [0.40087788, 0.14054567, 0.33333333, ..., 0.30242157, 0.40087788,\n",
       "        1.        ]])"
      ]
     },
     "execution_count": 107,
     "metadata": {},
     "output_type": "execute_result"
    }
   ],
   "source": [
    "cosine_sim"
   ]
  },
  {
   "cell_type": "code",
   "execution_count": 112,
   "metadata": {},
   "outputs": [
    {
     "name": "stdout",
     "output_type": "stream",
     "text": [
      "[[1.    0.238 0.361 0.323 0.221 0.026 0.071 0.17 ]\n",
      " [0.238 1.    0.169 0.24  0.173 0.251 0.267 0.08 ]\n",
      " [0.361 0.169 1.    0.269 0.175 0.023 0.105 0.151]\n",
      " [0.323 0.24  0.269 1.    0.248 0.086 0.16  0.095]\n",
      " [0.221 0.173 0.175 0.248 1.    0.148 0.104 0.165]\n",
      " [0.026 0.251 0.023 0.086 0.148 1.    0.215 0.171]\n",
      " [0.071 0.267 0.105 0.16  0.104 0.215 1.    0.08 ]\n",
      " [0.17  0.08  0.151 0.095 0.165 0.171 0.08  1.   ]]\n"
     ]
    }
   ],
   "source": [
    "#ดูความคล้ายกันในแต่ละแถว\n",
    "print(cosine_sim[:8, :8].round(3))"
   ]
  }
 ],
 "metadata": {
  "interpreter": {
   "hash": "2aa9149537a5fbbb8f7f4281f70462a302602a8e9c90d0314f27f9e6e4c1b14c"
  },
  "kernelspec": {
   "display_name": "Python 3.9.10 ('mydata')",
   "language": "python",
   "name": "python3"
  },
  "language_info": {
   "codemirror_mode": {
    "name": "ipython",
    "version": 3
   },
   "file_extension": ".py",
   "mimetype": "text/x-python",
   "name": "python",
   "nbconvert_exporter": "python",
   "pygments_lexer": "ipython3",
   "version": "3.9.10"
  },
  "orig_nbformat": 4
 },
 "nbformat": 4,
 "nbformat_minor": 2
}
