{
 "cells": [
  {
   "cell_type": "markdown",
   "metadata": {},
   "source": [
    "การวิเคราะห์ความรู้สึก (Sentiment) ชอบ (Positive = 1) ไม่ชอบ (Negative = 0)"
   ]
  },
  {
   "cell_type": "code",
   "execution_count": 127,
   "metadata": {},
   "outputs": [],
   "source": [
    "# pip install --upgrade gensim \n",
    "# pip install beautifulsoup4"
   ]
  },
  {
   "cell_type": "code",
   "execution_count": 128,
   "metadata": {},
   "outputs": [
    {
     "data": {
      "text/plain": [
       "('4.1.2', '1.22.1')"
      ]
     },
     "execution_count": 128,
     "metadata": {},
     "output_type": "execute_result"
    }
   ],
   "source": [
    "import numpy as np \n",
    "import pandas as pd \n",
    "import gensim\n",
    "from keras.preprocessing.text import Tokenizer\n",
    "from keras.preprocessing.sequence import pad_sequences\n",
    "from keras.models import Sequential\n",
    "from keras.layers import Embedding, Bidirectional, GRU, LSTM, Dense\n",
    "\n",
    "gensim. __version__, np. __version__"
   ]
  },
  {
   "cell_type": "markdown",
   "metadata": {},
   "source": [
    "เตรียม Pre-trained model คำศัพท์"
   ]
  },
  {
   "cell_type": "code",
   "execution_count": 129,
   "metadata": {},
   "outputs": [
    {
     "data": {
      "text/plain": [
       "<gensim.models.keyedvectors.KeyedVectors at 0x248b9c19d60>"
      ]
     },
     "execution_count": 129,
     "metadata": {},
     "output_type": "execute_result"
    }
   ],
   "source": [
    "import gensim.downloader as api \n",
    "\n",
    "wv = api.load('glove-wiki-gigaword-100')\n",
    "wv "
   ]
  },
  {
   "cell_type": "code",
   "execution_count": 130,
   "metadata": {},
   "outputs": [
    {
     "data": {
      "text/plain": [
       "400000"
      ]
     },
     "execution_count": 130,
     "metadata": {},
     "output_type": "execute_result"
    }
   ],
   "source": [
    "#ใช้ len ตรวจดูว่ามีคำกี่คำ\n",
    "len(wv.index_to_key)"
   ]
  },
  {
   "cell_type": "code",
   "execution_count": 131,
   "metadata": {},
   "outputs": [
    {
     "data": {
      "text/plain": [
       "100"
      ]
     },
     "execution_count": 131,
     "metadata": {},
     "output_type": "execute_result"
    }
   ],
   "source": [
    "#ตรวจดูขนาดของเวกเตอร์\n",
    "wv.vector_size"
   ]
  },
  {
   "cell_type": "markdown",
   "metadata": {},
   "source": [
    "ตรวจดูคำที่มีความคล้ายกัน เช่น horrible, terrible เพราะเกี่ยวกันการวิจารณ์ภาพยนต์จะมีคำบ่นต่างๆ เข้ามาเกี่ยวข้อง"
   ]
  },
  {
   "cell_type": "code",
   "execution_count": 132,
   "metadata": {},
   "outputs": [
    {
     "data": {
      "text/plain": [
       "[('awful', 0.921971321105957),\n",
       " ('terrible', 0.919477105140686),\n",
       " ('horrendous', 0.8366580605506897),\n",
       " ('dreadful', 0.8184822797775269),\n",
       " ('horrific', 0.8176026344299316),\n",
       " ('horrifying', 0.8023055791854858),\n",
       " ('appalling', 0.7695969939231873),\n",
       " ('tragic', 0.7407631874084473),\n",
       " ('disgusting', 0.7368147373199463),\n",
       " ('ugly', 0.7360007762908936)]"
      ]
     },
     "execution_count": 132,
     "metadata": {},
     "output_type": "execute_result"
    }
   ],
   "source": [
    "#ตรวจดูคำที่มีความคล้ายกัน เช่น horrible, terrible เพราะเกี่ยวกันการวิจารณ์ภาพยนต์จะมีคำบ่นต่างๆ เข้ามาเกี่ยวข้อง\n",
    "wv.similar_by_word('horrible')"
   ]
  },
  {
   "cell_type": "code",
   "execution_count": 133,
   "metadata": {},
   "outputs": [
    {
     "data": {
      "text/plain": [
       "[('shit', 0.6642228364944458),\n",
       " ('fucking', 0.6362317800521851),\n",
       " ('whack', 0.6277898550033569),\n",
       " ('baloney', 0.5797702074050903),\n",
       " ('fuck', 0.5778754353523254),\n",
       " ('heck', 0.5700293779373169),\n",
       " ('damn', 0.5665410161018372),\n",
       " ('craziness', 0.5653018355369568)]"
      ]
     },
     "execution_count": 133,
     "metadata": {},
     "output_type": "execute_result"
    }
   ],
   "source": [
    "#หาคำที่มีความคล้ายกันมากที่สุด\n",
    "wv.most_similar('crap', topn=8)"
   ]
  },
  {
   "cell_type": "markdown",
   "metadata": {},
   "source": [
    "การจัดเตรียมข้อมูล"
   ]
  },
  {
   "cell_type": "code",
   "execution_count": 134,
   "metadata": {},
   "outputs": [
    {
     "data": {
      "text/plain": [
       "(50000, 2)"
      ]
     },
     "execution_count": 134,
     "metadata": {},
     "output_type": "execute_result"
    }
   ],
   "source": [
    "df = pd.read_csv('IMDB Dataset.csv', encoding='utf-8')\n",
    "df.shape"
   ]
  },
  {
   "cell_type": "code",
   "execution_count": 135,
   "metadata": {},
   "outputs": [
    {
     "data": {
      "text/html": [
       "<div>\n",
       "<style scoped>\n",
       "    .dataframe tbody tr th:only-of-type {\n",
       "        vertical-align: middle;\n",
       "    }\n",
       "\n",
       "    .dataframe tbody tr th {\n",
       "        vertical-align: top;\n",
       "    }\n",
       "\n",
       "    .dataframe thead th {\n",
       "        text-align: right;\n",
       "    }\n",
       "</style>\n",
       "<table border=\"1\" class=\"dataframe\">\n",
       "  <thead>\n",
       "    <tr style=\"text-align: right;\">\n",
       "      <th></th>\n",
       "      <th>review</th>\n",
       "      <th>sentiment</th>\n",
       "    </tr>\n",
       "  </thead>\n",
       "  <tbody>\n",
       "    <tr>\n",
       "      <th>0</th>\n",
       "      <td>One of the other reviewers has mentioned that ...</td>\n",
       "      <td>positive</td>\n",
       "    </tr>\n",
       "    <tr>\n",
       "      <th>1</th>\n",
       "      <td>A wonderful little production. &lt;br /&gt;&lt;br /&gt;The...</td>\n",
       "      <td>positive</td>\n",
       "    </tr>\n",
       "    <tr>\n",
       "      <th>2</th>\n",
       "      <td>I thought this was a wonderful way to spend ti...</td>\n",
       "      <td>positive</td>\n",
       "    </tr>\n",
       "    <tr>\n",
       "      <th>3</th>\n",
       "      <td>Basically there's a family where a little boy ...</td>\n",
       "      <td>negative</td>\n",
       "    </tr>\n",
       "    <tr>\n",
       "      <th>4</th>\n",
       "      <td>Petter Mattei's \"Love in the Time of Money\" is...</td>\n",
       "      <td>positive</td>\n",
       "    </tr>\n",
       "    <tr>\n",
       "      <th>...</th>\n",
       "      <td>...</td>\n",
       "      <td>...</td>\n",
       "    </tr>\n",
       "    <tr>\n",
       "      <th>49995</th>\n",
       "      <td>I thought this movie did a down right good job...</td>\n",
       "      <td>positive</td>\n",
       "    </tr>\n",
       "    <tr>\n",
       "      <th>49996</th>\n",
       "      <td>Bad plot, bad dialogue, bad acting, idiotic di...</td>\n",
       "      <td>negative</td>\n",
       "    </tr>\n",
       "    <tr>\n",
       "      <th>49997</th>\n",
       "      <td>I am a Catholic taught in parochial elementary...</td>\n",
       "      <td>negative</td>\n",
       "    </tr>\n",
       "    <tr>\n",
       "      <th>49998</th>\n",
       "      <td>I'm going to have to disagree with the previou...</td>\n",
       "      <td>negative</td>\n",
       "    </tr>\n",
       "    <tr>\n",
       "      <th>49999</th>\n",
       "      <td>No one expects the Star Trek movies to be high...</td>\n",
       "      <td>negative</td>\n",
       "    </tr>\n",
       "  </tbody>\n",
       "</table>\n",
       "<p>50000 rows × 2 columns</p>\n",
       "</div>"
      ],
      "text/plain": [
       "                                                  review sentiment\n",
       "0      One of the other reviewers has mentioned that ...  positive\n",
       "1      A wonderful little production. <br /><br />The...  positive\n",
       "2      I thought this was a wonderful way to spend ti...  positive\n",
       "3      Basically there's a family where a little boy ...  negative\n",
       "4      Petter Mattei's \"Love in the Time of Money\" is...  positive\n",
       "...                                                  ...       ...\n",
       "49995  I thought this movie did a down right good job...  positive\n",
       "49996  Bad plot, bad dialogue, bad acting, idiotic di...  negative\n",
       "49997  I am a Catholic taught in parochial elementary...  negative\n",
       "49998  I'm going to have to disagree with the previou...  negative\n",
       "49999  No one expects the Star Trek movies to be high...  negative\n",
       "\n",
       "[50000 rows x 2 columns]"
      ]
     },
     "execution_count": 135,
     "metadata": {},
     "output_type": "execute_result"
    }
   ],
   "source": [
    "df "
   ]
  },
  {
   "cell_type": "markdown",
   "metadata": {},
   "source": [
    "สร้าง label เพื่อนำไปใช้ Train Test โดยให้ positive = 1 และ negative = 0"
   ]
  },
  {
   "cell_type": "code",
   "execution_count": 136,
   "metadata": {},
   "outputs": [
    {
     "data": {
      "text/html": [
       "<div>\n",
       "<style scoped>\n",
       "    .dataframe tbody tr th:only-of-type {\n",
       "        vertical-align: middle;\n",
       "    }\n",
       "\n",
       "    .dataframe tbody tr th {\n",
       "        vertical-align: top;\n",
       "    }\n",
       "\n",
       "    .dataframe thead th {\n",
       "        text-align: right;\n",
       "    }\n",
       "</style>\n",
       "<table border=\"1\" class=\"dataframe\">\n",
       "  <thead>\n",
       "    <tr style=\"text-align: right;\">\n",
       "      <th></th>\n",
       "      <th>review</th>\n",
       "      <th>sentiment</th>\n",
       "      <th>label</th>\n",
       "    </tr>\n",
       "  </thead>\n",
       "  <tbody>\n",
       "    <tr>\n",
       "      <th>40527</th>\n",
       "      <td>If you've ever heard the saying, \"the book is ...</td>\n",
       "      <td>negative</td>\n",
       "      <td>0</td>\n",
       "    </tr>\n",
       "    <tr>\n",
       "      <th>35547</th>\n",
       "      <td>There's a certain irony in a parody of the Got...</td>\n",
       "      <td>negative</td>\n",
       "      <td>0</td>\n",
       "    </tr>\n",
       "    <tr>\n",
       "      <th>37664</th>\n",
       "      <td>This is a beautiful, yet simple movie about on...</td>\n",
       "      <td>positive</td>\n",
       "      <td>1</td>\n",
       "    </tr>\n",
       "    <tr>\n",
       "      <th>6166</th>\n",
       "      <td>Going into a movie like I this, I was expectin...</td>\n",
       "      <td>negative</td>\n",
       "      <td>0</td>\n",
       "    </tr>\n",
       "    <tr>\n",
       "      <th>16315</th>\n",
       "      <td>Seriously engaging, intelligent and thought pr...</td>\n",
       "      <td>positive</td>\n",
       "      <td>1</td>\n",
       "    </tr>\n",
       "    <tr>\n",
       "      <th>46539</th>\n",
       "      <td>One of the many silent comedies Stan Laurel fe...</td>\n",
       "      <td>negative</td>\n",
       "      <td>0</td>\n",
       "    </tr>\n",
       "  </tbody>\n",
       "</table>\n",
       "</div>"
      ],
      "text/plain": [
       "                                                  review sentiment  label\n",
       "40527  If you've ever heard the saying, \"the book is ...  negative      0\n",
       "35547  There's a certain irony in a parody of the Got...  negative      0\n",
       "37664  This is a beautiful, yet simple movie about on...  positive      1\n",
       "6166   Going into a movie like I this, I was expectin...  negative      0\n",
       "16315  Seriously engaging, intelligent and thought pr...  positive      1\n",
       "46539  One of the many silent comedies Stan Laurel fe...  negative      0"
      ]
     },
     "execution_count": 136,
     "metadata": {},
     "output_type": "execute_result"
    }
   ],
   "source": [
    "df['label'] = np.where(df.sentiment == 'positive',1,0)\n",
    "df.sample(6)"
   ]
  },
  {
   "cell_type": "markdown",
   "metadata": {},
   "source": [
    "การประมวลผลเบื้องต้น ได้แก่ การเปลี่ยนอักขระตัวเล็ก ตัดแท็ก HTML ตัดคำ ที่ไม่มีผลต่อความหมายของประโยค review "
   ]
  },
  {
   "cell_type": "code",
   "execution_count": 137,
   "metadata": {},
   "outputs": [
    {
     "data": {
      "text/html": [
       "<div>\n",
       "<style scoped>\n",
       "    .dataframe tbody tr th:only-of-type {\n",
       "        vertical-align: middle;\n",
       "    }\n",
       "\n",
       "    .dataframe tbody tr th {\n",
       "        vertical-align: top;\n",
       "    }\n",
       "\n",
       "    .dataframe thead th {\n",
       "        text-align: right;\n",
       "    }\n",
       "</style>\n",
       "<table border=\"1\" class=\"dataframe\">\n",
       "  <thead>\n",
       "    <tr style=\"text-align: right;\">\n",
       "      <th></th>\n",
       "      <th>review</th>\n",
       "      <th>sentiment</th>\n",
       "      <th>label</th>\n",
       "      <th>review2</th>\n",
       "    </tr>\n",
       "  </thead>\n",
       "  <tbody>\n",
       "    <tr>\n",
       "      <th>0</th>\n",
       "      <td>One of the other reviewers has mentioned that ...</td>\n",
       "      <td>positive</td>\n",
       "      <td>1</td>\n",
       "      <td>one of the other reviewers has mentioned that ...</td>\n",
       "    </tr>\n",
       "    <tr>\n",
       "      <th>1</th>\n",
       "      <td>A wonderful little production. &lt;br /&gt;&lt;br /&gt;The...</td>\n",
       "      <td>positive</td>\n",
       "      <td>1</td>\n",
       "      <td>a wonderful little production. &lt;br /&gt;&lt;br /&gt;the...</td>\n",
       "    </tr>\n",
       "    <tr>\n",
       "      <th>2</th>\n",
       "      <td>I thought this was a wonderful way to spend ti...</td>\n",
       "      <td>positive</td>\n",
       "      <td>1</td>\n",
       "      <td>i thought this was a wonderful way to spend ti...</td>\n",
       "    </tr>\n",
       "    <tr>\n",
       "      <th>3</th>\n",
       "      <td>Basically there's a family where a little boy ...</td>\n",
       "      <td>negative</td>\n",
       "      <td>0</td>\n",
       "      <td>basically there's a family where a little boy ...</td>\n",
       "    </tr>\n",
       "    <tr>\n",
       "      <th>4</th>\n",
       "      <td>Petter Mattei's \"Love in the Time of Money\" is...</td>\n",
       "      <td>positive</td>\n",
       "      <td>1</td>\n",
       "      <td>petter mattei's \"love in the time of money\" is...</td>\n",
       "    </tr>\n",
       "    <tr>\n",
       "      <th>...</th>\n",
       "      <td>...</td>\n",
       "      <td>...</td>\n",
       "      <td>...</td>\n",
       "      <td>...</td>\n",
       "    </tr>\n",
       "    <tr>\n",
       "      <th>49995</th>\n",
       "      <td>I thought this movie did a down right good job...</td>\n",
       "      <td>positive</td>\n",
       "      <td>1</td>\n",
       "      <td>i thought this movie did a down right good job...</td>\n",
       "    </tr>\n",
       "    <tr>\n",
       "      <th>49996</th>\n",
       "      <td>Bad plot, bad dialogue, bad acting, idiotic di...</td>\n",
       "      <td>negative</td>\n",
       "      <td>0</td>\n",
       "      <td>bad plot, bad dialogue, bad acting, idiotic di...</td>\n",
       "    </tr>\n",
       "    <tr>\n",
       "      <th>49997</th>\n",
       "      <td>I am a Catholic taught in parochial elementary...</td>\n",
       "      <td>negative</td>\n",
       "      <td>0</td>\n",
       "      <td>i am a catholic taught in parochial elementary...</td>\n",
       "    </tr>\n",
       "    <tr>\n",
       "      <th>49998</th>\n",
       "      <td>I'm going to have to disagree with the previou...</td>\n",
       "      <td>negative</td>\n",
       "      <td>0</td>\n",
       "      <td>i'm going to have to disagree with the previou...</td>\n",
       "    </tr>\n",
       "    <tr>\n",
       "      <th>49999</th>\n",
       "      <td>No one expects the Star Trek movies to be high...</td>\n",
       "      <td>negative</td>\n",
       "      <td>0</td>\n",
       "      <td>no one expects the star trek movies to be high...</td>\n",
       "    </tr>\n",
       "  </tbody>\n",
       "</table>\n",
       "<p>50000 rows × 4 columns</p>\n",
       "</div>"
      ],
      "text/plain": [
       "                                                  review sentiment  label  \\\n",
       "0      One of the other reviewers has mentioned that ...  positive      1   \n",
       "1      A wonderful little production. <br /><br />The...  positive      1   \n",
       "2      I thought this was a wonderful way to spend ti...  positive      1   \n",
       "3      Basically there's a family where a little boy ...  negative      0   \n",
       "4      Petter Mattei's \"Love in the Time of Money\" is...  positive      1   \n",
       "...                                                  ...       ...    ...   \n",
       "49995  I thought this movie did a down right good job...  positive      1   \n",
       "49996  Bad plot, bad dialogue, bad acting, idiotic di...  negative      0   \n",
       "49997  I am a Catholic taught in parochial elementary...  negative      0   \n",
       "49998  I'm going to have to disagree with the previou...  negative      0   \n",
       "49999  No one expects the Star Trek movies to be high...  negative      0   \n",
       "\n",
       "                                                 review2  \n",
       "0      one of the other reviewers has mentioned that ...  \n",
       "1      a wonderful little production. <br /><br />the...  \n",
       "2      i thought this was a wonderful way to spend ti...  \n",
       "3      basically there's a family where a little boy ...  \n",
       "4      petter mattei's \"love in the time of money\" is...  \n",
       "...                                                  ...  \n",
       "49995  i thought this movie did a down right good job...  \n",
       "49996  bad plot, bad dialogue, bad acting, idiotic di...  \n",
       "49997  i am a catholic taught in parochial elementary...  \n",
       "49998  i'm going to have to disagree with the previou...  \n",
       "49999  no one expects the star trek movies to be high...  \n",
       "\n",
       "[50000 rows x 4 columns]"
      ]
     },
     "execution_count": 137,
     "metadata": {},
     "output_type": "execute_result"
    }
   ],
   "source": [
    "#การเปลี่ยนคำให้เป็นอักษรตัวเล็ก\n",
    "\n",
    "df['review2'] = df.review.str.lower()\n",
    "df "
   ]
  },
  {
   "cell_type": "markdown",
   "metadata": {},
   "source": [
    "การใช้ index เพื่อตรวจดูอักษรที่มีแท็ก HTML ที่จะต้องตัดออกด้วย BeautifulSoup"
   ]
  },
  {
   "cell_type": "code",
   "execution_count": 138,
   "metadata": {},
   "outputs": [
    {
     "data": {
      "text/html": [
       "<div>\n",
       "<style scoped>\n",
       "    .dataframe tbody tr th:only-of-type {\n",
       "        vertical-align: middle;\n",
       "    }\n",
       "\n",
       "    .dataframe tbody tr th {\n",
       "        vertical-align: top;\n",
       "    }\n",
       "\n",
       "    .dataframe thead th {\n",
       "        text-align: right;\n",
       "    }\n",
       "</style>\n",
       "<table border=\"1\" class=\"dataframe\">\n",
       "  <thead>\n",
       "    <tr style=\"text-align: right;\">\n",
       "      <th></th>\n",
       "      <th>review</th>\n",
       "      <th>sentiment</th>\n",
       "      <th>label</th>\n",
       "      <th>review2</th>\n",
       "    </tr>\n",
       "  </thead>\n",
       "  <tbody>\n",
       "    <tr>\n",
       "      <th>0</th>\n",
       "      <td>One of the other reviewers has mentioned that ...</td>\n",
       "      <td>positive</td>\n",
       "      <td>1</td>\n",
       "      <td>one of the other reviewers has mentioned that ...</td>\n",
       "    </tr>\n",
       "    <tr>\n",
       "      <th>1</th>\n",
       "      <td>A wonderful little production. &lt;br /&gt;&lt;br /&gt;The...</td>\n",
       "      <td>positive</td>\n",
       "      <td>1</td>\n",
       "      <td>a wonderful little production. the filming tec...</td>\n",
       "    </tr>\n",
       "    <tr>\n",
       "      <th>2</th>\n",
       "      <td>I thought this was a wonderful way to spend ti...</td>\n",
       "      <td>positive</td>\n",
       "      <td>1</td>\n",
       "      <td>i thought this was a wonderful way to spend ti...</td>\n",
       "    </tr>\n",
       "    <tr>\n",
       "      <th>3</th>\n",
       "      <td>Basically there's a family where a little boy ...</td>\n",
       "      <td>negative</td>\n",
       "      <td>0</td>\n",
       "      <td>basically there's a family where a little boy ...</td>\n",
       "    </tr>\n",
       "    <tr>\n",
       "      <th>4</th>\n",
       "      <td>Petter Mattei's \"Love in the Time of Money\" is...</td>\n",
       "      <td>positive</td>\n",
       "      <td>1</td>\n",
       "      <td>petter mattei's \"love in the time of money\" is...</td>\n",
       "    </tr>\n",
       "    <tr>\n",
       "      <th>...</th>\n",
       "      <td>...</td>\n",
       "      <td>...</td>\n",
       "      <td>...</td>\n",
       "      <td>...</td>\n",
       "    </tr>\n",
       "    <tr>\n",
       "      <th>49995</th>\n",
       "      <td>I thought this movie did a down right good job...</td>\n",
       "      <td>positive</td>\n",
       "      <td>1</td>\n",
       "      <td>i thought this movie did a down right good job...</td>\n",
       "    </tr>\n",
       "    <tr>\n",
       "      <th>49996</th>\n",
       "      <td>Bad plot, bad dialogue, bad acting, idiotic di...</td>\n",
       "      <td>negative</td>\n",
       "      <td>0</td>\n",
       "      <td>bad plot, bad dialogue, bad acting, idiotic di...</td>\n",
       "    </tr>\n",
       "    <tr>\n",
       "      <th>49997</th>\n",
       "      <td>I am a Catholic taught in parochial elementary...</td>\n",
       "      <td>negative</td>\n",
       "      <td>0</td>\n",
       "      <td>i am a catholic taught in parochial elementary...</td>\n",
       "    </tr>\n",
       "    <tr>\n",
       "      <th>49998</th>\n",
       "      <td>I'm going to have to disagree with the previou...</td>\n",
       "      <td>negative</td>\n",
       "      <td>0</td>\n",
       "      <td>i'm going to have to disagree with the previou...</td>\n",
       "    </tr>\n",
       "    <tr>\n",
       "      <th>49999</th>\n",
       "      <td>No one expects the Star Trek movies to be high...</td>\n",
       "      <td>negative</td>\n",
       "      <td>0</td>\n",
       "      <td>no one expects the star trek movies to be high...</td>\n",
       "    </tr>\n",
       "  </tbody>\n",
       "</table>\n",
       "<p>50000 rows × 4 columns</p>\n",
       "</div>"
      ],
      "text/plain": [
       "                                                  review sentiment  label  \\\n",
       "0      One of the other reviewers has mentioned that ...  positive      1   \n",
       "1      A wonderful little production. <br /><br />The...  positive      1   \n",
       "2      I thought this was a wonderful way to spend ti...  positive      1   \n",
       "3      Basically there's a family where a little boy ...  negative      0   \n",
       "4      Petter Mattei's \"Love in the Time of Money\" is...  positive      1   \n",
       "...                                                  ...       ...    ...   \n",
       "49995  I thought this movie did a down right good job...  positive      1   \n",
       "49996  Bad plot, bad dialogue, bad acting, idiotic di...  negative      0   \n",
       "49997  I am a Catholic taught in parochial elementary...  negative      0   \n",
       "49998  I'm going to have to disagree with the previou...  negative      0   \n",
       "49999  No one expects the Star Trek movies to be high...  negative      0   \n",
       "\n",
       "                                                 review2  \n",
       "0      one of the other reviewers has mentioned that ...  \n",
       "1      a wonderful little production. the filming tec...  \n",
       "2      i thought this was a wonderful way to spend ti...  \n",
       "3      basically there's a family where a little boy ...  \n",
       "4      petter mattei's \"love in the time of money\" is...  \n",
       "...                                                  ...  \n",
       "49995  i thought this movie did a down right good job...  \n",
       "49996  bad plot, bad dialogue, bad acting, idiotic di...  \n",
       "49997  i am a catholic taught in parochial elementary...  \n",
       "49998  i'm going to have to disagree with the previou...  \n",
       "49999  no one expects the star trek movies to be high...  \n",
       "\n",
       "[50000 rows x 4 columns]"
      ]
     },
     "execution_count": 138,
     "metadata": {},
     "output_type": "execute_result"
    }
   ],
   "source": [
    "#ตัดแท็ก HTML ออก\n",
    "from bs4 import BeautifulSoup\n",
    "\n",
    "def remove_tag(x):\n",
    "    soup = BeautifulSoup(x)\n",
    "    return soup.get_text()\n",
    "\n",
    "df['review2'] = df.review2.apply(remove_tag)\n",
    "df "
   ]
  },
  {
   "cell_type": "markdown",
   "metadata": {},
   "source": [
    "ใช้ remove_stopwords ตัดคำ เขียนทับลงไปในคอลัมน์ review2"
   ]
  },
  {
   "cell_type": "code",
   "execution_count": 139,
   "metadata": {},
   "outputs": [
    {
     "data": {
      "text/html": [
       "<div>\n",
       "<style scoped>\n",
       "    .dataframe tbody tr th:only-of-type {\n",
       "        vertical-align: middle;\n",
       "    }\n",
       "\n",
       "    .dataframe tbody tr th {\n",
       "        vertical-align: top;\n",
       "    }\n",
       "\n",
       "    .dataframe thead th {\n",
       "        text-align: right;\n",
       "    }\n",
       "</style>\n",
       "<table border=\"1\" class=\"dataframe\">\n",
       "  <thead>\n",
       "    <tr style=\"text-align: right;\">\n",
       "      <th></th>\n",
       "      <th>review</th>\n",
       "      <th>sentiment</th>\n",
       "      <th>label</th>\n",
       "      <th>review2</th>\n",
       "    </tr>\n",
       "  </thead>\n",
       "  <tbody>\n",
       "    <tr>\n",
       "      <th>0</th>\n",
       "      <td>One of the other reviewers has mentioned that ...</td>\n",
       "      <td>positive</td>\n",
       "      <td>1</td>\n",
       "      <td>one of the other reviewers has mentioned that ...</td>\n",
       "    </tr>\n",
       "    <tr>\n",
       "      <th>1</th>\n",
       "      <td>A wonderful little production. &lt;br /&gt;&lt;br /&gt;The...</td>\n",
       "      <td>positive</td>\n",
       "      <td>1</td>\n",
       "      <td>a wonderful little production. the filming tec...</td>\n",
       "    </tr>\n",
       "    <tr>\n",
       "      <th>2</th>\n",
       "      <td>I thought this was a wonderful way to spend ti...</td>\n",
       "      <td>positive</td>\n",
       "      <td>1</td>\n",
       "      <td>i thought this was a wonderful way to spend ti...</td>\n",
       "    </tr>\n",
       "    <tr>\n",
       "      <th>3</th>\n",
       "      <td>Basically there's a family where a little boy ...</td>\n",
       "      <td>negative</td>\n",
       "      <td>0</td>\n",
       "      <td>basically there's a family where a little boy ...</td>\n",
       "    </tr>\n",
       "    <tr>\n",
       "      <th>4</th>\n",
       "      <td>Petter Mattei's \"Love in the Time of Money\" is...</td>\n",
       "      <td>positive</td>\n",
       "      <td>1</td>\n",
       "      <td>petter mattei's \"love in the time of money\" is...</td>\n",
       "    </tr>\n",
       "    <tr>\n",
       "      <th>...</th>\n",
       "      <td>...</td>\n",
       "      <td>...</td>\n",
       "      <td>...</td>\n",
       "      <td>...</td>\n",
       "    </tr>\n",
       "    <tr>\n",
       "      <th>49995</th>\n",
       "      <td>I thought this movie did a down right good job...</td>\n",
       "      <td>positive</td>\n",
       "      <td>1</td>\n",
       "      <td>i thought this movie did a down right good job...</td>\n",
       "    </tr>\n",
       "    <tr>\n",
       "      <th>49996</th>\n",
       "      <td>Bad plot, bad dialogue, bad acting, idiotic di...</td>\n",
       "      <td>negative</td>\n",
       "      <td>0</td>\n",
       "      <td>bad plot, bad dialogue, bad acting, idiotic di...</td>\n",
       "    </tr>\n",
       "    <tr>\n",
       "      <th>49997</th>\n",
       "      <td>I am a Catholic taught in parochial elementary...</td>\n",
       "      <td>negative</td>\n",
       "      <td>0</td>\n",
       "      <td>i am a catholic taught in parochial elementary...</td>\n",
       "    </tr>\n",
       "    <tr>\n",
       "      <th>49998</th>\n",
       "      <td>I'm going to have to disagree with the previou...</td>\n",
       "      <td>negative</td>\n",
       "      <td>0</td>\n",
       "      <td>i'm going to have to disagree with the previou...</td>\n",
       "    </tr>\n",
       "    <tr>\n",
       "      <th>49999</th>\n",
       "      <td>No one expects the Star Trek movies to be high...</td>\n",
       "      <td>negative</td>\n",
       "      <td>0</td>\n",
       "      <td>no one expects the star trek movies to be high...</td>\n",
       "    </tr>\n",
       "  </tbody>\n",
       "</table>\n",
       "<p>50000 rows × 4 columns</p>\n",
       "</div>"
      ],
      "text/plain": [
       "                                                  review sentiment  label  \\\n",
       "0      One of the other reviewers has mentioned that ...  positive      1   \n",
       "1      A wonderful little production. <br /><br />The...  positive      1   \n",
       "2      I thought this was a wonderful way to spend ti...  positive      1   \n",
       "3      Basically there's a family where a little boy ...  negative      0   \n",
       "4      Petter Mattei's \"Love in the Time of Money\" is...  positive      1   \n",
       "...                                                  ...       ...    ...   \n",
       "49995  I thought this movie did a down right good job...  positive      1   \n",
       "49996  Bad plot, bad dialogue, bad acting, idiotic di...  negative      0   \n",
       "49997  I am a Catholic taught in parochial elementary...  negative      0   \n",
       "49998  I'm going to have to disagree with the previou...  negative      0   \n",
       "49999  No one expects the Star Trek movies to be high...  negative      0   \n",
       "\n",
       "                                                 review2  \n",
       "0      one of the other reviewers has mentioned that ...  \n",
       "1      a wonderful little production. the filming tec...  \n",
       "2      i thought this was a wonderful way to spend ti...  \n",
       "3      basically there's a family where a little boy ...  \n",
       "4      petter mattei's \"love in the time of money\" is...  \n",
       "...                                                  ...  \n",
       "49995  i thought this movie did a down right good job...  \n",
       "49996  bad plot, bad dialogue, bad acting, idiotic di...  \n",
       "49997  i am a catholic taught in parochial elementary...  \n",
       "49998  i'm going to have to disagree with the previou...  \n",
       "49999  no one expects the star trek movies to be high...  \n",
       "\n",
       "[50000 rows x 4 columns]"
      ]
     },
     "execution_count": 139,
     "metadata": {},
     "output_type": "execute_result"
    }
   ],
   "source": [
    "from gensim.parsing.preprocessing import remove_stopwords\n",
    "df['review2'] = df.review2.apply(remove_tag)\n",
    "df "
   ]
  },
  {
   "cell_type": "markdown",
   "metadata": {},
   "source": [
    "ตัดแบ่งคำ (Tokenize) และกรอกอักขระที่ไม่มีผล เช่น $%&^+-/*@<>= เป็นต้น "
   ]
  },
  {
   "cell_type": "code",
   "execution_count": 140,
   "metadata": {},
   "outputs": [],
   "source": [
    "#ตัดแบ่งคำ \n",
    "tk = Tokenizer()\n",
    "tk.fit_on_texts(df.review2)"
   ]
  },
  {
   "cell_type": "code",
   "execution_count": 141,
   "metadata": {},
   "outputs": [
    {
     "data": {
      "text/plain": [
       "{'the': 1,\n",
       " 'and': 2,\n",
       " 'a': 3,\n",
       " 'of': 4,\n",
       " 'to': 5,\n",
       " 'is': 6,\n",
       " 'in': 7,\n",
       " 'it': 8,\n",
       " 'i': 9,\n",
       " 'this': 10,\n",
       " 'that': 11,\n",
       " 'was': 12,\n",
       " 'as': 13,\n",
       " 'for': 14,\n",
       " 'with': 15,\n",
       " 'movie': 16,\n",
       " 'but': 17,\n",
       " 'film': 18,\n",
       " 'on': 19,\n",
       " 'not': 20,\n",
       " 'you': 21,\n",
       " 'are': 22,\n",
       " 'his': 23,\n",
       " 'have': 24,\n",
       " 'be': 25,\n",
       " 'one': 26,\n",
       " 'he': 27,\n",
       " 'all': 28,\n",
       " 'at': 29,\n",
       " 'by': 30,\n",
       " 'an': 31,\n",
       " 'they': 32,\n",
       " 'so': 33,\n",
       " 'who': 34,\n",
       " 'from': 35,\n",
       " 'like': 36,\n",
       " 'or': 37,\n",
       " 'just': 38,\n",
       " 'her': 39,\n",
       " 'about': 40,\n",
       " 'out': 41,\n",
       " 'if': 42,\n",
       " \"it's\": 43,\n",
       " 'has': 44,\n",
       " 'there': 45,\n",
       " 'some': 46,\n",
       " 'what': 47,\n",
       " 'good': 48,\n",
       " 'when': 49,\n",
       " 'more': 50,\n",
       " 'very': 51,\n",
       " 'up': 52,\n",
       " 'no': 53,\n",
       " 'time': 54,\n",
       " 'my': 55,\n",
       " 'even': 56,\n",
       " 'would': 57,\n",
       " 'she': 58,\n",
       " 'which': 59,\n",
       " 'only': 60,\n",
       " 'really': 61,\n",
       " 'see': 62,\n",
       " 'story': 63,\n",
       " 'their': 64,\n",
       " 'had': 65,\n",
       " 'can': 66,\n",
       " 'me': 67,\n",
       " 'well': 68,\n",
       " 'were': 69,\n",
       " 'than': 70,\n",
       " 'much': 71,\n",
       " 'we': 72,\n",
       " 'bad': 73,\n",
       " 'been': 74,\n",
       " 'get': 75,\n",
       " 'do': 76,\n",
       " 'great': 77,\n",
       " 'other': 78,\n",
       " 'will': 79,\n",
       " 'also': 80,\n",
       " 'into': 81,\n",
       " 'people': 82,\n",
       " 'because': 83,\n",
       " 'how': 84,\n",
       " 'first': 85,\n",
       " 'him': 86,\n",
       " 'most': 87,\n",
       " \"don't\": 88,\n",
       " 'made': 89,\n",
       " 'then': 90,\n",
       " 'them': 91,\n",
       " 'its': 92,\n",
       " 'make': 93,\n",
       " 'way': 94,\n",
       " 'too': 95,\n",
       " 'movies': 96,\n",
       " 'could': 97,\n",
       " 'any': 98,\n",
       " 'after': 99,\n",
       " 'think': 100,\n",
       " 'characters': 101,\n",
       " 'watch': 102,\n",
       " 'films': 103,\n",
       " 'two': 104,\n",
       " 'many': 105,\n",
       " 'seen': 106,\n",
       " 'character': 107,\n",
       " 'being': 108,\n",
       " 'never': 109,\n",
       " 'plot': 110,\n",
       " 'love': 111,\n",
       " 'acting': 112,\n",
       " 'life': 113,\n",
       " 'did': 114,\n",
       " 'best': 115,\n",
       " 'where': 116,\n",
       " 'know': 117,\n",
       " 'show': 118,\n",
       " 'little': 119,\n",
       " 'over': 120,\n",
       " 'off': 121,\n",
       " 'ever': 122,\n",
       " 'does': 123,\n",
       " 'your': 124,\n",
       " 'better': 125,\n",
       " 'end': 126,\n",
       " 'man': 127,\n",
       " 'scene': 128,\n",
       " 'still': 129,\n",
       " 'say': 130,\n",
       " 'these': 131,\n",
       " 'here': 132,\n",
       " 'why': 133,\n",
       " 'scenes': 134,\n",
       " 'while': 135,\n",
       " 'something': 136,\n",
       " 'such': 137,\n",
       " 'go': 138,\n",
       " 'through': 139,\n",
       " 'back': 140,\n",
       " 'should': 141,\n",
       " 'those': 142,\n",
       " 'real': 143,\n",
       " \"i'm\": 144,\n",
       " 'now': 145,\n",
       " 'watching': 146,\n",
       " 'thing': 147,\n",
       " \"doesn't\": 148,\n",
       " 'actors': 149,\n",
       " 'though': 150,\n",
       " 'funny': 151,\n",
       " 'years': 152,\n",
       " \"didn't\": 153,\n",
       " 'old': 154,\n",
       " 'another': 155,\n",
       " 'work': 156,\n",
       " 'before': 157,\n",
       " 'actually': 158,\n",
       " '10': 159,\n",
       " 'nothing': 160,\n",
       " 'makes': 161,\n",
       " 'look': 162,\n",
       " 'director': 163,\n",
       " 'find': 164,\n",
       " 'going': 165,\n",
       " 'same': 166,\n",
       " 'new': 167,\n",
       " 'lot': 168,\n",
       " 'every': 169,\n",
       " 'few': 170,\n",
       " 'part': 171,\n",
       " 'again': 172,\n",
       " 'cast': 173,\n",
       " 'down': 174,\n",
       " 'us': 175,\n",
       " 'things': 176,\n",
       " 'want': 177,\n",
       " 'quite': 178,\n",
       " 'pretty': 179,\n",
       " 'world': 180,\n",
       " 'horror': 181,\n",
       " 'around': 182,\n",
       " 'seems': 183,\n",
       " \"can't\": 184,\n",
       " 'young': 185,\n",
       " 'take': 186,\n",
       " 'however': 187,\n",
       " 'got': 188,\n",
       " 'thought': 189,\n",
       " 'big': 190,\n",
       " 'fact': 191,\n",
       " 'enough': 192,\n",
       " 'long': 193,\n",
       " 'both': 194,\n",
       " \"that's\": 195,\n",
       " 'give': 196,\n",
       " \"i've\": 197,\n",
       " 'own': 198,\n",
       " 'may': 199,\n",
       " 'between': 200,\n",
       " 'right': 201,\n",
       " 'comedy': 202,\n",
       " 'series': 203,\n",
       " 'action': 204,\n",
       " 'must': 205,\n",
       " 'music': 206,\n",
       " 'without': 207,\n",
       " 'times': 208,\n",
       " 'saw': 209,\n",
       " 'always': 210,\n",
       " 'original': 211,\n",
       " \"isn't\": 212,\n",
       " 'role': 213,\n",
       " 'come': 214,\n",
       " 'almost': 215,\n",
       " 'gets': 216,\n",
       " 'interesting': 217,\n",
       " 'guy': 218,\n",
       " 'point': 219,\n",
       " 'done': 220,\n",
       " \"there's\": 221,\n",
       " 'whole': 222,\n",
       " 'least': 223,\n",
       " 'far': 224,\n",
       " 'bit': 225,\n",
       " 'script': 226,\n",
       " 'minutes': 227,\n",
       " 'feel': 228,\n",
       " 'anything': 229,\n",
       " 'making': 230,\n",
       " 'might': 231,\n",
       " 'since': 232,\n",
       " '2': 233,\n",
       " 'am': 234,\n",
       " 'family': 235,\n",
       " \"he's\": 236,\n",
       " 'last': 237,\n",
       " 'probably': 238,\n",
       " 'tv': 239,\n",
       " 'performance': 240,\n",
       " 'kind': 241,\n",
       " 'away': 242,\n",
       " 'yet': 243,\n",
       " 'fun': 244,\n",
       " 'worst': 245,\n",
       " 'sure': 246,\n",
       " 'rather': 247,\n",
       " 'hard': 248,\n",
       " 'girl': 249,\n",
       " 'anyone': 250,\n",
       " 'each': 251,\n",
       " 'played': 252,\n",
       " 'day': 253,\n",
       " 'found': 254,\n",
       " 'looking': 255,\n",
       " 'woman': 256,\n",
       " 'screen': 257,\n",
       " 'our': 258,\n",
       " 'although': 259,\n",
       " 'especially': 260,\n",
       " 'believe': 261,\n",
       " 'having': 262,\n",
       " 'trying': 263,\n",
       " 'course': 264,\n",
       " 'dvd': 265,\n",
       " 'set': 266,\n",
       " 'everything': 267,\n",
       " 'goes': 268,\n",
       " 'comes': 269,\n",
       " 'put': 270,\n",
       " 'ending': 271,\n",
       " 'maybe': 272,\n",
       " 'place': 273,\n",
       " 'book': 274,\n",
       " 'shows': 275,\n",
       " 'three': 276,\n",
       " 'worth': 277,\n",
       " 'different': 278,\n",
       " 'main': 279,\n",
       " 'once': 280,\n",
       " 'sense': 281,\n",
       " 'american': 282,\n",
       " 'reason': 283,\n",
       " 'looks': 284,\n",
       " 'effects': 285,\n",
       " 'watched': 286,\n",
       " 'play': 287,\n",
       " 'true': 288,\n",
       " 'actor': 289,\n",
       " 'money': 290,\n",
       " \"wasn't\": 291,\n",
       " 'job': 292,\n",
       " 'together': 293,\n",
       " 'war': 294,\n",
       " 'someone': 295,\n",
       " 'plays': 296,\n",
       " 'high': 297,\n",
       " 'instead': 298,\n",
       " 'during': 299,\n",
       " 'year': 300,\n",
       " 'said': 301,\n",
       " 'half': 302,\n",
       " 'everyone': 303,\n",
       " 'later': 304,\n",
       " 'takes': 305,\n",
       " 'seem': 306,\n",
       " 'audience': 307,\n",
       " 'special': 308,\n",
       " '1': 309,\n",
       " 'beautiful': 310,\n",
       " 'left': 311,\n",
       " 'himself': 312,\n",
       " 'seeing': 313,\n",
       " 'john': 314,\n",
       " 'night': 315,\n",
       " 'black': 316,\n",
       " 'version': 317,\n",
       " 'shot': 318,\n",
       " 'excellent': 319,\n",
       " 'idea': 320,\n",
       " 'house': 321,\n",
       " 'mind': 322,\n",
       " 'star': 323,\n",
       " 'wife': 324,\n",
       " 'fan': 325,\n",
       " 'death': 326,\n",
       " 'used': 327,\n",
       " 'else': 328,\n",
       " 'simply': 329,\n",
       " 'nice': 330,\n",
       " 'budget': 331,\n",
       " 'poor': 332,\n",
       " 'completely': 333,\n",
       " 'short': 334,\n",
       " 'second': 335,\n",
       " \"you're\": 336,\n",
       " '3': 337,\n",
       " 'read': 338,\n",
       " 'less': 339,\n",
       " 'along': 340,\n",
       " 'top': 341,\n",
       " 'help': 342,\n",
       " 'home': 343,\n",
       " 'men': 344,\n",
       " 'either': 345,\n",
       " 'line': 346,\n",
       " 'boring': 347,\n",
       " 'dead': 348,\n",
       " 'friends': 349,\n",
       " 'kids': 350,\n",
       " 'production': 351,\n",
       " 'try': 352,\n",
       " 'enjoy': 353,\n",
       " 'camera': 354,\n",
       " 'use': 355,\n",
       " 'wrong': 356,\n",
       " 'given': 357,\n",
       " 'low': 358,\n",
       " 'classic': 359,\n",
       " 'need': 360,\n",
       " 'father': 361,\n",
       " 'full': 362,\n",
       " 'stupid': 363,\n",
       " 'until': 364,\n",
       " 'next': 365,\n",
       " 'performances': 366,\n",
       " 'school': 367,\n",
       " 'hollywood': 368,\n",
       " 'rest': 369,\n",
       " 'truly': 370,\n",
       " 'awful': 371,\n",
       " 'video': 372,\n",
       " 'couple': 373,\n",
       " 'start': 374,\n",
       " 'sex': 375,\n",
       " 'recommend': 376,\n",
       " 'women': 377,\n",
       " 'let': 378,\n",
       " 'tell': 379,\n",
       " 'terrible': 380,\n",
       " 'mean': 381,\n",
       " 'remember': 382,\n",
       " 'came': 383,\n",
       " 'getting': 384,\n",
       " 'understand': 385,\n",
       " 'perhaps': 386,\n",
       " 'moments': 387,\n",
       " 'name': 388,\n",
       " 'keep': 389,\n",
       " 'face': 390,\n",
       " 'itself': 391,\n",
       " 'wonderful': 392,\n",
       " 'playing': 393,\n",
       " 'human': 394,\n",
       " 'style': 395,\n",
       " 'small': 396,\n",
       " 'episode': 397,\n",
       " 'perfect': 398,\n",
       " 'person': 399,\n",
       " 'others': 400,\n",
       " 'doing': 401,\n",
       " 'often': 402,\n",
       " 'early': 403,\n",
       " 'definitely': 404,\n",
       " 'written': 405,\n",
       " 'stars': 406,\n",
       " 'head': 407,\n",
       " 'lines': 408,\n",
       " 'dialogue': 409,\n",
       " 'gives': 410,\n",
       " 'piece': 411,\n",
       " \"couldn't\": 412,\n",
       " 'went': 413,\n",
       " 'finally': 414,\n",
       " 'mother': 415,\n",
       " 'case': 416,\n",
       " 'title': 417,\n",
       " 'absolutely': 418,\n",
       " 'boy': 419,\n",
       " 'live': 420,\n",
       " 'yes': 421,\n",
       " 'laugh': 422,\n",
       " 'certainly': 423,\n",
       " 'liked': 424,\n",
       " 'become': 425,\n",
       " 'worse': 426,\n",
       " 'entertaining': 427,\n",
       " 'sort': 428,\n",
       " 'oh': 429,\n",
       " 'loved': 430,\n",
       " 'lost': 431,\n",
       " 'called': 432,\n",
       " 'hope': 433,\n",
       " 'picture': 434,\n",
       " 'felt': 435,\n",
       " 'entire': 436,\n",
       " 'mr': 437,\n",
       " 'several': 438,\n",
       " 'based': 439,\n",
       " 'supposed': 440,\n",
       " 'overall': 441,\n",
       " 'cinema': 442,\n",
       " 'friend': 443,\n",
       " 'guys': 444,\n",
       " 'sound': 445,\n",
       " 'problem': 446,\n",
       " 'drama': 447,\n",
       " 'against': 448,\n",
       " 'waste': 449,\n",
       " 'white': 450,\n",
       " 'beginning': 451,\n",
       " '4': 452,\n",
       " '5': 453,\n",
       " 'fans': 454,\n",
       " 'totally': 455,\n",
       " 'dark': 456,\n",
       " 'care': 457,\n",
       " 'humor': 458,\n",
       " 'wanted': 459,\n",
       " \"she's\": 460,\n",
       " 'seemed': 461,\n",
       " 'direction': 462,\n",
       " 'under': 463,\n",
       " 'children': 464,\n",
       " 'game': 465,\n",
       " 'despite': 466,\n",
       " 'lives': 467,\n",
       " 'lead': 468,\n",
       " 'guess': 469,\n",
       " 'example': 470,\n",
       " 'already': 471,\n",
       " 'final': 472,\n",
       " \"you'll\": 473,\n",
       " 'evil': 474,\n",
       " 'turn': 475,\n",
       " 'throughout': 476,\n",
       " 'becomes': 477,\n",
       " 'unfortunately': 478,\n",
       " 'able': 479,\n",
       " 'quality': 480,\n",
       " \"i'd\": 481,\n",
       " 'days': 482,\n",
       " 'history': 483,\n",
       " 'fine': 484,\n",
       " 'side': 485,\n",
       " 'wants': 486,\n",
       " 'horrible': 487,\n",
       " 'heart': 488,\n",
       " 'writing': 489,\n",
       " 'amazing': 490,\n",
       " 'flick': 491,\n",
       " 'b': 492,\n",
       " 'killer': 493,\n",
       " 'run': 494,\n",
       " 'son': 495,\n",
       " '\\x96': 496,\n",
       " 'michael': 497,\n",
       " 'works': 498,\n",
       " 'close': 499,\n",
       " \"they're\": 500,\n",
       " 'act': 501,\n",
       " 'art': 502,\n",
       " 'kill': 503,\n",
       " 'matter': 504,\n",
       " 'etc': 505,\n",
       " 'tries': 506,\n",
       " \"won't\": 507,\n",
       " 'town': 508,\n",
       " 'past': 509,\n",
       " 'turns': 510,\n",
       " 'enjoyed': 511,\n",
       " 'brilliant': 512,\n",
       " 'gave': 513,\n",
       " 'behind': 514,\n",
       " 'parts': 515,\n",
       " 'stuff': 516,\n",
       " 'genre': 517,\n",
       " 'car': 518,\n",
       " 'eyes': 519,\n",
       " 'favorite': 520,\n",
       " 'directed': 521,\n",
       " 'late': 522,\n",
       " 'hand': 523,\n",
       " 'expect': 524,\n",
       " 'soon': 525,\n",
       " 'hour': 526,\n",
       " 'obviously': 527,\n",
       " 'themselves': 528,\n",
       " 'sometimes': 529,\n",
       " 'killed': 530,\n",
       " 'thinking': 531,\n",
       " 'actress': 532,\n",
       " 'viewer': 533,\n",
       " 'girls': 534,\n",
       " 'child': 535,\n",
       " 'starts': 536,\n",
       " 'myself': 537,\n",
       " 'city': 538,\n",
       " 'decent': 539,\n",
       " 'highly': 540,\n",
       " 'stop': 541,\n",
       " 'type': 542,\n",
       " 'self': 543,\n",
       " 'god': 544,\n",
       " 'says': 545,\n",
       " 'group': 546,\n",
       " 'anyway': 547,\n",
       " 'voice': 548,\n",
       " 'took': 549,\n",
       " 'known': 550,\n",
       " 'kid': 551,\n",
       " 'blood': 552,\n",
       " 'heard': 553,\n",
       " 'happens': 554,\n",
       " 'except': 555,\n",
       " 'fight': 556,\n",
       " 'feeling': 557,\n",
       " 'experience': 558,\n",
       " 'coming': 559,\n",
       " 'slow': 560,\n",
       " 'daughter': 561,\n",
       " 'writer': 562,\n",
       " 'stories': 563,\n",
       " 'moment': 564,\n",
       " 'leave': 565,\n",
       " 'told': 566,\n",
       " 'extremely': 567,\n",
       " 'score': 568,\n",
       " 'violence': 569,\n",
       " 'police': 570,\n",
       " 'involved': 571,\n",
       " 'strong': 572,\n",
       " 'lack': 573,\n",
       " 'chance': 574,\n",
       " 'cannot': 575,\n",
       " 'hit': 576,\n",
       " 'hilarious': 577,\n",
       " 'roles': 578,\n",
       " 's': 579,\n",
       " 'wonder': 580,\n",
       " 'particularly': 581,\n",
       " 'happen': 582,\n",
       " 'ok': 583,\n",
       " 'including': 584,\n",
       " 'save': 585,\n",
       " 'living': 586,\n",
       " 'looked': 587,\n",
       " \"wouldn't\": 588,\n",
       " 'crap': 589,\n",
       " 'simple': 590,\n",
       " 'please': 591,\n",
       " 'murder': 592,\n",
       " 'cool': 593,\n",
       " 'obvious': 594,\n",
       " 'happened': 595,\n",
       " 'complete': 596,\n",
       " 'cut': 597,\n",
       " 'serious': 598,\n",
       " 'age': 599,\n",
       " 'hell': 600,\n",
       " 'attempt': 601,\n",
       " 'ago': 602,\n",
       " 'gore': 603,\n",
       " 'song': 604,\n",
       " 'shown': 605,\n",
       " 'taken': 606,\n",
       " 'english': 607,\n",
       " 'james': 608,\n",
       " 'robert': 609,\n",
       " 'seriously': 610,\n",
       " 'david': 611,\n",
       " 'released': 612,\n",
       " 'reality': 613,\n",
       " 'opening': 614,\n",
       " 'jokes': 615,\n",
       " 'interest': 616,\n",
       " 'across': 617,\n",
       " 'none': 618,\n",
       " 'hero': 619,\n",
       " 'exactly': 620,\n",
       " 'possible': 621,\n",
       " 'today': 622,\n",
       " 'alone': 623,\n",
       " 'sad': 624,\n",
       " 'brother': 625,\n",
       " 'number': 626,\n",
       " 'saying': 627,\n",
       " 'career': 628,\n",
       " \"film's\": 629,\n",
       " 'usually': 630,\n",
       " 'hours': 631,\n",
       " 'cinematography': 632,\n",
       " 'talent': 633,\n",
       " 'view': 634,\n",
       " 'running': 635,\n",
       " 'annoying': 636,\n",
       " 'yourself': 637,\n",
       " 'relationship': 638,\n",
       " 'documentary': 639,\n",
       " 'wish': 640,\n",
       " 'huge': 641,\n",
       " 'order': 642,\n",
       " 'whose': 643,\n",
       " 'shots': 644,\n",
       " 'ridiculous': 645,\n",
       " 'taking': 646,\n",
       " 'light': 647,\n",
       " 'important': 648,\n",
       " 'body': 649,\n",
       " 'middle': 650,\n",
       " 'level': 651,\n",
       " 'ends': 652,\n",
       " 'started': 653,\n",
       " 'call': 654,\n",
       " 'female': 655,\n",
       " 'husband': 656,\n",
       " 'four': 657,\n",
       " \"i'll\": 658,\n",
       " 'power': 659,\n",
       " 'major': 660,\n",
       " 'word': 661,\n",
       " 'turned': 662,\n",
       " 'opinion': 663,\n",
       " 'change': 664,\n",
       " 'mostly': 665,\n",
       " 'usual': 666,\n",
       " 'silly': 667,\n",
       " 'scary': 668,\n",
       " 'beyond': 669,\n",
       " 'rating': 670,\n",
       " 'somewhat': 671,\n",
       " 'happy': 672,\n",
       " 'words': 673,\n",
       " 'ones': 674,\n",
       " 'room': 675,\n",
       " 'knows': 676,\n",
       " 'knew': 677,\n",
       " 'country': 678,\n",
       " 'disappointed': 679,\n",
       " 'novel': 680,\n",
       " 'talking': 681,\n",
       " 'apparently': 682,\n",
       " 'non': 683,\n",
       " 'strange': 684,\n",
       " 'upon': 685,\n",
       " 'attention': 686,\n",
       " 'single': 687,\n",
       " 'finds': 688,\n",
       " 'basically': 689,\n",
       " 'cheap': 690,\n",
       " 'modern': 691,\n",
       " 'due': 692,\n",
       " 'jack': 693,\n",
       " 'musical': 694,\n",
       " 'television': 695,\n",
       " 'problems': 696,\n",
       " 'miss': 697,\n",
       " 'episodes': 698,\n",
       " 'clearly': 699,\n",
       " 'local': 700,\n",
       " '7': 701,\n",
       " 'british': 702,\n",
       " 'thriller': 703,\n",
       " 'talk': 704,\n",
       " 'events': 705,\n",
       " 'five': 706,\n",
       " 'sequence': 707,\n",
       " \"aren't\": 708,\n",
       " 'class': 709,\n",
       " 'french': 710,\n",
       " 'moving': 711,\n",
       " 'ten': 712,\n",
       " 'fast': 713,\n",
       " 'earth': 714,\n",
       " 'tells': 715,\n",
       " 'review': 716,\n",
       " 'predictable': 717,\n",
       " 'team': 718,\n",
       " 'songs': 719,\n",
       " 'comic': 720,\n",
       " 'straight': 721,\n",
       " 'whether': 722,\n",
       " '8': 723,\n",
       " 'die': 724,\n",
       " 'add': 725,\n",
       " 'dialog': 726,\n",
       " 'sets': 727,\n",
       " 'entertainment': 728,\n",
       " 'above': 729,\n",
       " 'future': 730,\n",
       " 'enjoyable': 731,\n",
       " 'appears': 732,\n",
       " 'near': 733,\n",
       " 'space': 734,\n",
       " 'easily': 735,\n",
       " 'hate': 736,\n",
       " 'soundtrack': 737,\n",
       " 'bring': 738,\n",
       " 'giving': 739,\n",
       " 'lots': 740,\n",
       " 'similar': 741,\n",
       " 'romantic': 742,\n",
       " 'george': 743,\n",
       " 'supporting': 744,\n",
       " 'release': 745,\n",
       " 'mention': 746,\n",
       " 'within': 747,\n",
       " 'filmed': 748,\n",
       " 'message': 749,\n",
       " 'sequel': 750,\n",
       " 'clear': 751,\n",
       " 'falls': 752,\n",
       " \"haven't\": 753,\n",
       " 'needs': 754,\n",
       " 'dull': 755,\n",
       " 'bunch': 756,\n",
       " 'suspense': 757,\n",
       " 'surprised': 758,\n",
       " 'eye': 759,\n",
       " 'showing': 760,\n",
       " 'tried': 761,\n",
       " 'sorry': 762,\n",
       " 'certain': 763,\n",
       " 'working': 764,\n",
       " 'easy': 765,\n",
       " 'ways': 766,\n",
       " 'theme': 767,\n",
       " 'theater': 768,\n",
       " 'among': 769,\n",
       " 'named': 770,\n",
       " \"what's\": 771,\n",
       " 'storyline': 772,\n",
       " 'monster': 773,\n",
       " 'king': 774,\n",
       " 'stay': 775,\n",
       " 'effort': 776,\n",
       " 'minute': 777,\n",
       " 'fall': 778,\n",
       " 'stand': 779,\n",
       " 'gone': 780,\n",
       " 'rock': 781,\n",
       " 'using': 782,\n",
       " 'feature': 783,\n",
       " 'comments': 784,\n",
       " '9': 785,\n",
       " 'buy': 786,\n",
       " 'sister': 787,\n",
       " 'typical': 788,\n",
       " 'tale': 789,\n",
       " 'editing': 790,\n",
       " 't': 791,\n",
       " 'avoid': 792,\n",
       " 'mystery': 793,\n",
       " 'deal': 794,\n",
       " 'dr': 795,\n",
       " 'doubt': 796,\n",
       " 'fantastic': 797,\n",
       " 'kept': 798,\n",
       " 'nearly': 799,\n",
       " 'feels': 800,\n",
       " 'subject': 801,\n",
       " 'viewing': 802,\n",
       " 'elements': 803,\n",
       " 'oscar': 804,\n",
       " 'points': 805,\n",
       " 'realistic': 806,\n",
       " 'means': 807,\n",
       " 'okay': 808,\n",
       " 'greatest': 809,\n",
       " 'herself': 810,\n",
       " 'parents': 811,\n",
       " 'check': 812,\n",
       " 'famous': 813,\n",
       " 'imagine': 814,\n",
       " 'richard': 815,\n",
       " 'crime': 816,\n",
       " 'rent': 817,\n",
       " 'viewers': 818,\n",
       " 'form': 819,\n",
       " 'peter': 820,\n",
       " 'actual': 821,\n",
       " 'lady': 822,\n",
       " 'general': 823,\n",
       " 'dog': 824,\n",
       " 'follow': 825,\n",
       " 'believable': 826,\n",
       " 'period': 827,\n",
       " 'red': 828,\n",
       " 'brought': 829,\n",
       " 'move': 830,\n",
       " 'material': 831,\n",
       " 'somehow': 832,\n",
       " 'forget': 833,\n",
       " 'begins': 834,\n",
       " \"'\": 835,\n",
       " 're': 836,\n",
       " 'animation': 837,\n",
       " 'reviews': 838,\n",
       " 'paul': 839,\n",
       " \"you've\": 840,\n",
       " 'leads': 841,\n",
       " 'figure': 842,\n",
       " 'weak': 843,\n",
       " 'surprise': 844,\n",
       " 'sit': 845,\n",
       " 'hear': 846,\n",
       " 'average': 847,\n",
       " 'sequences': 848,\n",
       " 'open': 849,\n",
       " 'killing': 850,\n",
       " 'atmosphere': 851,\n",
       " 'eventually': 852,\n",
       " 'premise': 853,\n",
       " 'learn': 854,\n",
       " '20': 855,\n",
       " 'tom': 856,\n",
       " 'wait': 857,\n",
       " 'sci': 858,\n",
       " 'deep': 859,\n",
       " 'fi': 860,\n",
       " 'expected': 861,\n",
       " 'whatever': 862,\n",
       " 'indeed': 863,\n",
       " 'particular': 864,\n",
       " 'lame': 865,\n",
       " 'poorly': 866,\n",
       " 'note': 867,\n",
       " 'dance': 868,\n",
       " 'imdb': 869,\n",
       " 'shame': 870,\n",
       " 'situation': 871,\n",
       " 'york': 872,\n",
       " 'box': 873,\n",
       " 'third': 874,\n",
       " 'truth': 875,\n",
       " 'decided': 876,\n",
       " 'free': 877,\n",
       " 'hot': 878,\n",
       " \"who's\": 879,\n",
       " 'difficult': 880,\n",
       " 'needed': 881,\n",
       " 'season': 882,\n",
       " 'acted': 883,\n",
       " 'leaves': 884,\n",
       " 'unless': 885,\n",
       " 'romance': 886,\n",
       " 'emotional': 887,\n",
       " 'possibly': 888,\n",
       " 'gay': 889,\n",
       " 'boys': 890,\n",
       " 'footage': 891,\n",
       " 'sexual': 892,\n",
       " 'write': 893,\n",
       " 'western': 894,\n",
       " 'credits': 895,\n",
       " 'doctor': 896,\n",
       " 'reading': 897,\n",
       " 'became': 898,\n",
       " 'forced': 899,\n",
       " 'memorable': 900,\n",
       " 'air': 901,\n",
       " 'begin': 902,\n",
       " 'otherwise': 903,\n",
       " 'de': 904,\n",
       " 'crew': 905,\n",
       " 'question': 906,\n",
       " 'meet': 907,\n",
       " 'male': 908,\n",
       " 'society': 909,\n",
       " 'meets': 910,\n",
       " \"let's\": 911,\n",
       " 'plus': 912,\n",
       " 'cheesy': 913,\n",
       " 'hands': 914,\n",
       " 'superb': 915,\n",
       " 'screenplay': 916,\n",
       " 'street': 917,\n",
       " 'beauty': 918,\n",
       " 'interested': 919,\n",
       " 'features': 920,\n",
       " 'perfectly': 921,\n",
       " 'laughs': 922,\n",
       " 'masterpiece': 923,\n",
       " 'whom': 924,\n",
       " 'nature': 925,\n",
       " 'stage': 926,\n",
       " 'effect': 927,\n",
       " 'forward': 928,\n",
       " 'comment': 929,\n",
       " 'nor': 930,\n",
       " 'previous': 931,\n",
       " 'e': 932,\n",
       " 'sounds': 933,\n",
       " 'badly': 934,\n",
       " 'japanese': 935,\n",
       " 'weird': 936,\n",
       " 'island': 937,\n",
       " 'inside': 938,\n",
       " 'personal': 939,\n",
       " 'quickly': 940,\n",
       " 'total': 941,\n",
       " 'keeps': 942,\n",
       " 'towards': 943,\n",
       " 'result': 944,\n",
       " 'america': 945,\n",
       " 'crazy': 946,\n",
       " 'battle': 947,\n",
       " 'setting': 948,\n",
       " 'earlier': 949,\n",
       " 'worked': 950,\n",
       " 'incredibly': 951,\n",
       " 'background': 952,\n",
       " 'mess': 953,\n",
       " 'cop': 954,\n",
       " 'writers': 955,\n",
       " 'fire': 956,\n",
       " 'realize': 957,\n",
       " 'dumb': 958,\n",
       " 'unique': 959,\n",
       " 'copy': 960,\n",
       " 'lee': 961,\n",
       " 'powerful': 962,\n",
       " 'mark': 963,\n",
       " 'business': 964,\n",
       " 'older': 965,\n",
       " 'rate': 966,\n",
       " 'dramatic': 967,\n",
       " 'pay': 968,\n",
       " 'directors': 969,\n",
       " 'girlfriend': 970,\n",
       " 'following': 971,\n",
       " 'joke': 972,\n",
       " 'plenty': 973,\n",
       " 'directing': 974,\n",
       " 'various': 975,\n",
       " 'creepy': 976,\n",
       " 'baby': 977,\n",
       " 'development': 978,\n",
       " 'appear': 979,\n",
       " 'brings': 980,\n",
       " 'front': 981,\n",
       " 'dream': 982,\n",
       " 'ask': 983,\n",
       " 'water': 984,\n",
       " 'rich': 985,\n",
       " 'bill': 986,\n",
       " 'admit': 987,\n",
       " 'apart': 988,\n",
       " 'fairly': 989,\n",
       " 'joe': 990,\n",
       " 'political': 991,\n",
       " 'leading': 992,\n",
       " 'reasons': 993,\n",
       " 'portrayed': 994,\n",
       " 'spent': 995,\n",
       " 'telling': 996,\n",
       " 'cover': 997,\n",
       " 'fighting': 998,\n",
       " 'present': 999,\n",
       " 'wasted': 1000,\n",
       " ...}"
      ]
     },
     "execution_count": 141,
     "metadata": {},
     "output_type": "execute_result"
    }
   ],
   "source": [
    "#ตรวจสอบคำที่ตัดแล้วพร้อมระบุความถี่ \n",
    "tk.word_index"
   ]
  },
  {
   "cell_type": "code",
   "execution_count": 142,
   "metadata": {},
   "outputs": [
    {
     "data": {
      "text/plain": [
       "18"
      ]
     },
     "execution_count": 142,
     "metadata": {},
     "output_type": "execute_result"
    }
   ],
   "source": [
    "#ต้องการดูว่า film มีค่ารหัส index คืออะไร \n",
    "tk.word_index['film']"
   ]
  },
  {
   "cell_type": "code",
   "execution_count": 143,
   "metadata": {},
   "outputs": [
    {
     "data": {
      "text/plain": [
       "126512"
      ]
     },
     "execution_count": 143,
     "metadata": {},
     "output_type": "execute_result"
    }
   ],
   "source": [
    "#หาจำนวนคำที่ไม่ซ้ำกัน (Unique)\n",
    "vocab_size = len(tk.word_index)+1\n",
    "vocab_size"
   ]
  },
  {
   "cell_type": "code",
   "execution_count": 144,
   "metadata": {},
   "outputs": [
    {
     "data": {
      "text/plain": [
       "[3, 392, 119, 351, 1, 1384, 2976, 6, 51, 17947, 51, 154, 54, 2379, 1583]"
      ]
     },
     "execution_count": 144,
     "metadata": {},
     "output_type": "execute_result"
    }
   ],
   "source": [
    "#เปลี่ยนรหัสคำให้เป็นรหัสตัวเลขในคอลัมน์ review2\n",
    "sents_enc = tk.texts_to_sequences(df.review2)\n",
    "sents_enc[1][:15]"
   ]
  },
  {
   "cell_type": "markdown",
   "metadata": {},
   "source": [
    "วิเคราะห์หาความยาวเฉลี่ย Min Max โดยนับความยาวของ list แต่ละ review จะได้ความยาวของ review ไม่เท่ากัน"
   ]
  },
  {
   "cell_type": "code",
   "execution_count": 145,
   "metadata": {},
   "outputs": [
    {
     "name": "stdout",
     "output_type": "stream",
     "text": [
      "Average Review Length: 230.93744\n",
      "Standard Deviation: 171\n",
      "Min Length: 6\n",
      "Max Length: 2466\n"
     ]
    }
   ],
   "source": [
    "sents_len = [len(i) for i in sents_enc]\n",
    "\n",
    "print('Average Review Length:', np.mean(sents_len))\n",
    "print('Standard Deviation:', round(np.std(sents_len)))\n",
    "print('Min Length:', np.min(sents_len))\n",
    "print('Max Length:', np.max(sents_len))"
   ]
  },
  {
   "cell_type": "markdown",
   "metadata": {},
   "source": [
    "การเตรียมข้อมูลก่อนการ Train จะต้องมีการเติม 0 (Padding) เพื่อให้แต่ละ review มีความยาวเท่ากัน ในที่นี่กำหนดเป็น 300 จากความยาวเฉลี่ย 231 (Average Review Length = 230.93744)"
   ]
  },
  {
   "cell_type": "code",
   "execution_count": 146,
   "metadata": {},
   "outputs": [
    {
     "data": {
      "text/plain": [
       "array([[  26,    4,    1, ..., 1601,   42,   21],\n",
       "       [   3,  392,  119, ...,    0,    0,    0],\n",
       "       [   9,  189,   10, ...,    0,    0,    0],\n",
       "       ...,\n",
       "       [   9,  234,    3, ...,    0,    0,    0],\n",
       "       [ 144,  165,    5, ...,    0,    0,    0],\n",
       "       [  53,   26, 5889, ...,    0,    0,    0]])"
      ]
     },
     "execution_count": 146,
     "metadata": {},
     "output_type": "execute_result"
    }
   ],
   "source": [
    "#จำนวนความยาวคำสูงสุด\n",
    "max_len = 300\n",
    "sents_pad = pad_sequences(sents_enc, truncating='post', padding='post', maxlen=max_len)\n",
    "sents_pad"
   ]
  },
  {
   "cell_type": "markdown",
   "metadata": {},
   "source": [
    "ถอดรหัส (Decode) ดูข้อความ Review ของ 2 คนแรกเขียนว่าอย่างไร "
   ]
  },
  {
   "cell_type": "code",
   "execution_count": 147,
   "metadata": {},
   "outputs": [
    {
     "data": {
      "text/plain": [
       "[\"one of the other reviewers has mentioned that after watching just 1 oz episode you'll be hooked they are right as this is exactly what happened with me the first thing that struck me about oz was its brutality and unflinching scenes of violence which set in right from the word go trust me this is not a show for the faint hearted or timid this show pulls no punches with regards to drugs sex or violence its is hardcore in the classic use of the word it is called oz as that is the nickname given to the oswald maximum security state penitentary it focuses mainly on emerald city an experimental section of the prison where all the cells have glass fronts and face inwards so privacy is not high on the agenda em city is home to many aryans muslims gangstas latinos christians italians irish and more so scuffles death stares dodgy dealings and shady agreements are never far away i would say the main appeal of the show is due to the fact that it goes where other shows wouldn't dare forget pretty pictures painted for mainstream audiences forget charm forget romance oz doesn't mess around the first episode i ever saw struck me as so nasty it was surreal i couldn't say i was ready for it but as i watched more i developed a taste for oz and got accustomed to the high levels of graphic violence not just violence but injustice crooked guards who'll be sold out for a nickel inmates who'll kill on order and get away with it well mannered middle class inmates being turned into prison bitches due to their lack of street skills or prison experience watching oz you may become comfortable with what is uncomfortable viewing thats if you\",\n",
       " \"a wonderful little production the filming technique is very unassuming very old time bbc fashion and gives a comforting and sometimes discomforting sense of realism to the entire piece the actors are extremely well chosen michael sheen not only has got all the polari but he has all the voices down pat too you can truly see the seamless editing guided by the references to williams' diary entries not only is it well worth the watching but it is a terrificly written and performed piece a masterful production about one of the great master's of comedy and his life the realism really comes home with the little things the fantasy of the guard which rather than use the traditional 'dream' techniques remains solid then disappears it plays on our knowledge and our senses particularly with the scenes concerning orton and halliwell and the sets particularly of their flat with halliwell's murals decorating every surface are terribly well done\"]"
      ]
     },
     "execution_count": 147,
     "metadata": {},
     "output_type": "execute_result"
    }
   ],
   "source": [
    "check_reviews = sents_pad[:2]\n",
    "tk.sequences_to_texts(check_reviews)"
   ]
  },
  {
   "cell_type": "markdown",
   "metadata": {},
   "source": [
    "การใช้งาน Tokenize ในการตัดคำและเข้ารหัสจะได้ออบเจกต์ tk (Tokenizer) เป็นค่าสำคัญต่างๆ เอาไว้ ซึ่งเวลานำ model ไปใช้ predict จะต้องใช้ออบเจกต์เข้ารหัสด้วยข้อความ review ที่นำมา predict "
   ]
  },
  {
   "cell_type": "code",
   "execution_count": 148,
   "metadata": {},
   "outputs": [],
   "source": [
    "#บันทึก Tokenizer object ไว้ใช้งานร่วมกับ model \n",
    "import pickle\n",
    "\n",
    "with open('IMDB_tokenizer.pickle', 'wb') as handle:\n",
    "    pickle.dump(tk, handle, protocol=pickle.HIGHEST_PROTOCOL)"
   ]
  },
  {
   "cell_type": "markdown",
   "metadata": {},
   "source": [
    "เมื่อนำ model ไปใช้งาน จะต้องโหลด tk (Tokenize) ดังนี้ "
   ]
  },
  {
   "cell_type": "code",
   "execution_count": 149,
   "metadata": {},
   "outputs": [],
   "source": [
    "#เมื่อนำ model ไปใช้งาน จะต้องโหลด tk (Tokenize) ดังนี้ \n",
    "with open('IMDB_tokenizer.pickle', 'rb') as handle:\n",
    "    tk = pickle.load(handle)"
   ]
  },
  {
   "cell_type": "markdown",
   "metadata": {},
   "source": [
    "การเตรียมข้อมูล Train และ Test ข้อมูลที่ X ที่นำมาใช้คือ sents_pad ที่ผ่านการ Padding แล้ว ซึ่งมีความยาวเท่ากันหมด 300 คำ ส่วนค่า y คือ df.label คือเลข \n",
    "0 1 0 0 1 ... เป็นต้น โดยนำมาแบ่งเพื่อใช้ Train และ Test ในสัดส่วนที่เท่ากัน คือ 50%"
   ]
  },
  {
   "cell_type": "code",
   "execution_count": 150,
   "metadata": {},
   "outputs": [
    {
     "data": {
      "text/plain": [
       "((25000, 300), (25000, 300))"
      ]
     },
     "execution_count": 150,
     "metadata": {},
     "output_type": "execute_result"
    }
   ],
   "source": [
    "from sklearn.model_selection import train_test_split\n",
    "\n",
    "X_train, X_test, y_train, y_test = train_test_split(sents_pad, \n",
    "                                                    df.label, \n",
    "                                                    test_size=0.5,\n",
    "                                                    random_state=1)\n",
    "\n",
    "X_train.shape, X_test.shape"
   ]
  },
  {
   "cell_type": "markdown",
   "metadata": {},
   "source": [
    "การสร้างแมทริกซ์ (Embedding Matrix) ในกรณีที่ไม่ได้ใช้ Pre-trained model ใดๆ สามารถเข้าสู่การสร้าง model และ train ได้เลย แต่ในกรณีนี้ ยกตัวอย่างการใช้ Pre-trained model ดังนั้น จึงต้องสร้างแมทริกซ์แต่ละคำขึ้นมาก่อน หลักการคือสร้างแมทริกซ์ขนาด vocab_size x embed_size (125495 x 100) โดย 125495 คือ Unique คำที่ไม่ซ้ำกันใน Dataset ส่วน 100 ความยาวของเวกเตอร์"
   ]
  },
  {
   "cell_type": "code",
   "execution_count": 151,
   "metadata": {},
   "outputs": [
    {
     "data": {
      "text/plain": [
       "(126512, 100)"
      ]
     },
     "execution_count": 151,
     "metadata": {},
     "output_type": "execute_result"
    }
   ],
   "source": [
    "#ขนาดของเวกเตอร์คือ 100\n",
    "embed_size = wv.vector_size \n",
    "\n",
    "embedding_matrix = np.zeros((vocab_size, embed_size))\n",
    "for word, i in tk.word_index.items():\n",
    "    if i >= vocab_size:\n",
    "        continue\n",
    "    try:\n",
    "        embedding_vector = wv[word]\n",
    "        embedding_matrix[i] = embedding_vector[:embed_size]\n",
    "    except KeyError:\n",
    "        embedding_matrix[i] = np.random.normal(0, np.sqrt(0.25), embed_size)\n",
    "\n",
    "embedding_matrix.shape"
   ]
  },
  {
   "cell_type": "code",
   "execution_count": 152,
   "metadata": {},
   "outputs": [
    {
     "data": {
      "text/plain": [
       "array([-0.038194  , -0.24487001])"
      ]
     },
     "execution_count": 152,
     "metadata": {},
     "output_type": "execute_result"
    }
   ],
   "source": [
    "#ดูข้อมูล matrix บางส่วน \n",
    "embedding_matrix[1][:2]"
   ]
  },
  {
   "cell_type": "markdown",
   "metadata": {},
   "source": [
    "การสร้าง Model จะต้องมีการกำหนดค่า vocab_size, embed_size และ weigths ก่อนหน้านี้ "
   ]
  },
  {
   "cell_type": "code",
   "execution_count": 153,
   "metadata": {},
   "outputs": [],
   "source": [
    "from keras.layers import GRU, Bidirectional\n",
    "\n",
    "model = Sequential()\n",
    "model.add(Embedding(vocab_size, embed_size,\n",
    "                    weights=[embedding_matrix], #Weight ใช้ Embedding matrix\n",
    "                    trainable=True,\n",
    "                    input_shape=(X_train.shape[1],)))"
   ]
  },
  {
   "cell_type": "code",
   "execution_count": 154,
   "metadata": {},
   "outputs": [
    {
     "name": "stdout",
     "output_type": "stream",
     "text": [
      "Model: \"sequential_3\"\n",
      "_________________________________________________________________\n",
      " Layer (type)                Output Shape              Param #   \n",
      "=================================================================\n",
      " embedding_3 (Embedding)     (None, 300, 100)          12651200  \n",
      "                                                                 \n",
      " bidirectional_1 (Bidirectio  (None, 256)              176640    \n",
      " nal)                                                            \n",
      "                                                                 \n",
      " dense_1 (Dense)             (None, 1)                 257       \n",
      "                                                                 \n",
      "=================================================================\n",
      "Total params: 12,828,097\n",
      "Trainable params: 12,828,097\n",
      "Non-trainable params: 0\n",
      "_________________________________________________________________\n"
     ]
    }
   ],
   "source": [
    "model.add(Bidirectional(GRU(units=128, activation='tanh')))\n",
    "model.add(Dense(units=1, activation='sigmoid'))\n",
    "model.summary()"
   ]
  },
  {
   "cell_type": "code",
   "execution_count": 155,
   "metadata": {},
   "outputs": [],
   "source": [
    "model.compile(optimizer='adam', \n",
    "              loss='binary_crossentropy', \n",
    "              metrics=['accuracy'])"
   ]
  },
  {
   "cell_type": "code",
   "execution_count": 156,
   "metadata": {},
   "outputs": [
    {
     "name": "stdout",
     "output_type": "stream",
     "text": [
      "Epoch 1/5\n",
      "196/196 [==============================] - 414s 2s/step - loss: 0.5233 - accuracy: 0.7268 - val_loss: 0.3384 - val_accuracy: 0.8582\n",
      "Epoch 2/5\n",
      "196/196 [==============================] - 435s 2s/step - loss: 0.2763 - accuracy: 0.8889 - val_loss: 0.2781 - val_accuracy: 0.8846\n",
      "Epoch 3/5\n",
      "196/196 [==============================] - 430s 2s/step - loss: 0.1641 - accuracy: 0.9418 - val_loss: 0.2979 - val_accuracy: 0.8872\n",
      "Epoch 4/5\n",
      "196/196 [==============================] - 436s 2s/step - loss: 0.0802 - accuracy: 0.9747 - val_loss: 0.3647 - val_accuracy: 0.8812\n",
      "Epoch 5/5\n",
      "196/196 [==============================] - 438s 2s/step - loss: 0.0354 - accuracy: 0.9902 - val_loss: 0.5013 - val_accuracy: 0.8747\n"
     ]
    }
   ],
   "source": [
    "history = model.fit(X_train, y_train, \n",
    "                    epochs=5, batch_size=128,\n",
    "                    verbose=1, validation_data=(X_test, y_test))"
   ]
  },
  {
   "cell_type": "code",
   "execution_count": 157,
   "metadata": {},
   "outputs": [
    {
     "name": "stdout",
     "output_type": "stream",
     "text": [
      "782/782 [==============================] - 92s 117ms/step - loss: 0.5013 - accuracy: 0.8747\n",
      "Test accuracy: 0.875\n"
     ]
    }
   ],
   "source": [
    "#การประเมิน model \n",
    "loss, accuracy = model.evaluate(X_test, y_test)\n",
    "print('Test accuracy: {:.3f}'.format(accuracy))"
   ]
  },
  {
   "cell_type": "markdown",
   "metadata": {},
   "source": [
    "ในกรณีที่ล็อกไม่ให้ Train ชั้น Embedding ให้กำหนด trainable=False ค่าพารามิเตอร์จะลดลง เช่น 12 ล้านเศษ เหลือ Trainable 176,897 ดังนี้ "
   ]
  },
  {
   "cell_type": "code",
   "execution_count": 158,
   "metadata": {},
   "outputs": [],
   "source": [
    "# model = Sequential()\n",
    "# model.add(Embedding(vocab_size, embed_size,\n",
    "#                     weights=[embedding_matrix], #Weight ใช้ Embedding matrix\n",
    "#                     trainable=False, #เปลี่ยนจาก True เป็น False\n",
    "#                     input_shape=(X_train.shape[1],)))\n",
    "\n",
    "# model.summary()"
   ]
  },
  {
   "cell_type": "markdown",
   "metadata": {},
   "source": [
    "การพยากรณ์ (Predict) การใช้งานคือการ input ข้อความ Review เข้าสู่ Model ให้ Predict บอกว่า ข้อความ Review มีอารมณ์ความรู้สึกในแง่บวกหรือลบ ข้อสำคัญคือจะต้องเข้ารหัส Tokenize ตัวเดียวกับที่ใช้ Train model "
   ]
  },
  {
   "cell_type": "code",
   "execution_count": 159,
   "metadata": {},
   "outputs": [
    {
     "name": "stdout",
     "output_type": "stream",
     "text": [
      "['this', 'film', 'was', 'about', 'politics', 'i', 'do', 'not', 'like', 'ti', 'it', 'sucks', 'can', 'i', 'get', 'money', 'back']\n"
     ]
    }
   ],
   "source": [
    "from keras.preprocessing.text import text_to_word_sequence\n",
    "\n",
    "comment1 = 'This film was about politics. I do not like ti. It sucks. Can I get money back?'\n",
    "\n",
    "#ตัดคำ\n",
    "words_tk = text_to_word_sequence(comment1)\n",
    "print(words_tk)\n"
   ]
  },
  {
   "cell_type": "markdown",
   "metadata": {},
   "source": [
    "การเข้ารหัส ใช้ tk ตัวเดียวกับที่เตรียมข้อมูลสำหรับการ Train"
   ]
  },
  {
   "cell_type": "code",
   "execution_count": 160,
   "metadata": {},
   "outputs": [
    {
     "data": {
      "text/plain": [
       "[[10, 18, 12, 40, 2534, 9, 76, 20, 36, 32900, 8, 1693, 66, 9, 75, 290, 140]]"
      ]
     },
     "execution_count": 160,
     "metadata": {},
     "output_type": "execute_result"
    }
   ],
   "source": [
    "#การเข้ารหัส ใช้ tk ตัวเดียวกับที่เตรียมข้อมูลสำหรับการ Train\n",
    "new_words_enc = tk.texts_to_sequences([comment1])\n",
    "new_words_enc"
   ]
  },
  {
   "cell_type": "code",
   "execution_count": 161,
   "metadata": {},
   "outputs": [
    {
     "data": {
      "text/plain": [
       "array([[   10,    18,    12,    40,  2534,     9,    76,    20,    36,\n",
       "        32900,     8,  1693,    66,     9,    75,   290,   140,     0,\n",
       "            0,     0,     0,     0,     0,     0,     0,     0,     0,\n",
       "            0,     0,     0,     0,     0,     0,     0,     0,     0,\n",
       "            0,     0,     0,     0,     0,     0,     0,     0,     0,\n",
       "            0,     0,     0,     0,     0,     0,     0,     0,     0,\n",
       "            0,     0,     0,     0,     0,     0,     0,     0,     0,\n",
       "            0,     0,     0,     0,     0,     0,     0,     0,     0,\n",
       "            0,     0,     0,     0,     0,     0,     0,     0,     0,\n",
       "            0,     0,     0,     0,     0,     0,     0,     0,     0,\n",
       "            0,     0,     0,     0,     0,     0,     0,     0,     0,\n",
       "            0,     0,     0,     0,     0,     0,     0,     0,     0,\n",
       "            0,     0,     0,     0,     0,     0,     0,     0,     0,\n",
       "            0,     0,     0,     0,     0,     0,     0,     0,     0,\n",
       "            0,     0,     0,     0,     0,     0,     0,     0,     0,\n",
       "            0,     0,     0,     0,     0,     0,     0,     0,     0,\n",
       "            0,     0,     0,     0,     0,     0,     0,     0,     0,\n",
       "            0,     0,     0,     0,     0,     0,     0,     0,     0,\n",
       "            0,     0,     0,     0,     0,     0,     0,     0,     0,\n",
       "            0,     0,     0,     0,     0,     0,     0,     0,     0,\n",
       "            0,     0,     0,     0,     0,     0,     0,     0,     0,\n",
       "            0,     0,     0,     0,     0,     0,     0,     0,     0,\n",
       "            0,     0,     0,     0,     0,     0,     0,     0,     0,\n",
       "            0,     0,     0,     0,     0,     0,     0,     0,     0,\n",
       "            0,     0,     0,     0,     0,     0,     0,     0,     0,\n",
       "            0,     0,     0,     0,     0,     0,     0,     0,     0,\n",
       "            0,     0,     0,     0,     0,     0,     0,     0,     0,\n",
       "            0,     0,     0,     0,     0,     0,     0,     0,     0,\n",
       "            0,     0,     0,     0,     0,     0,     0,     0,     0,\n",
       "            0,     0,     0,     0,     0,     0,     0,     0,     0,\n",
       "            0,     0,     0,     0,     0,     0,     0,     0,     0,\n",
       "            0,     0,     0,     0,     0,     0,     0,     0,     0,\n",
       "            0,     0,     0,     0,     0,     0,     0,     0,     0,\n",
       "            0,     0,     0]])"
      ]
     },
     "execution_count": 161,
     "metadata": {},
     "output_type": "execute_result"
    }
   ],
   "source": [
    "#ใส่ Padding ให้ความยาวเท่ากับที่ใช้ตอน Train Model \n",
    "X_new = pad_sequences(new_words_enc, truncating='post',\n",
    "                      padding='post', maxlen=max_len)\n",
    "\n",
    "X_new"
   ]
  },
  {
   "cell_type": "markdown",
   "metadata": {},
   "source": [
    "เมื่อถอดรหัสคำ จะต้องกลับมาเหมือนประโยคต้นฉบับ แสดงว่าการถอดรหัสทำงานถูกต้อง"
   ]
  },
  {
   "cell_type": "code",
   "execution_count": 162,
   "metadata": {},
   "outputs": [
    {
     "data": {
      "text/plain": [
       "['this film was about politics i do not like ti it sucks can i get money back']"
      ]
     },
     "execution_count": 162,
     "metadata": {},
     "output_type": "execute_result"
    }
   ],
   "source": [
    "#เมื่อถอดรหัสคำ จะต้องกลับมาเหมือนประโยคต้นฉบับ แสดงว่าการถอดรหัสทำงานถูกต้อง\n",
    "tk.sequences_to_texts(X_new)"
   ]
  },
  {
   "cell_type": "markdown",
   "metadata": {},
   "source": [
    "ทำการ Predict ถ้าใได้ค่า Score 0.5 ขึ้นไป แสดงความว่าความรู้สึกเป็น Positive หมายถึงอารมณ์ความรู้สึกเป็นบวก แต่ถ้าค่าน้อยกว่า แสดงว่าเป็นแง่ลบ "
   ]
  },
  {
   "cell_type": "markdown",
   "metadata": {},
   "source": [
    "model.predict(X).apply(lambda p: 0 if p < .5 else 1)\n",
    "#threshold = 0.5 \n",
    "y_pred = model.predict(X_test)\n",
    "ypred = (y_pred > 0.5).astype(int)\n",
    "predicted = pd.DataFrame(ypred)\n",
    "rename = predicted.rename(columns={0: 'China',\n",
    "                                   1: 'United States'})\n",
    "rename"
   ]
  },
  {
   "cell_type": "code",
   "execution_count": 163,
   "metadata": {},
   "outputs": [
    {
     "name": "stdout",
     "output_type": "stream",
     "text": [
      "0.005\n",
      "Negative\n"
     ]
    }
   ],
   "source": [
    "result = model.predict(X_new)\n",
    "print(np.squeeze(result).round(3))\n",
    "print('Positive' if result[0] > 0.5 else 'Negative')"
   ]
  },
  {
   "cell_type": "markdown",
   "metadata": {},
   "source": [
    "การ Predict หลาย Review โดยเพิ่ข้อความ Review แล้วรวมให้เป็น 1 list "
   ]
  },
  {
   "cell_type": "code",
   "execution_count": 164,
   "metadata": {},
   "outputs": [
    {
     "name": "stdout",
     "output_type": "stream",
     "text": [
      "This film was about politics. I do not like ti. It sucks. Can I get money back?\n",
      "this film was about politics. people talk about it. the film was good. i recommend\n"
     ]
    }
   ],
   "source": [
    "comment2 = 'this film was about politics. people talk about it. the film was good. i recommend'\n",
    "reviews_new = [comment1, comment2]\n",
    "for i in reviews_new:\n",
    "    print(i)"
   ]
  },
  {
   "cell_type": "markdown",
   "metadata": {},
   "source": [
    "ทำการ Padding แล้วส่งเข้า Model เพื่อ Predict จะได้ค่า Score ผลลัพธ์คือ Review คนแรก รู้สึกเชิงลบ ส่วน Review คนที่ 2 ความรู้สึกเชิงบวก "
   ]
  },
  {
   "cell_type": "code",
   "execution_count": 165,
   "metadata": {},
   "outputs": [
    {
     "name": "stdout",
     "output_type": "stream",
     "text": [
      "[[0.005]]\n"
     ]
    }
   ],
   "source": [
    "new_words_enc = tk.texts_to_sequences(reviews_new)\n",
    "X_new = pad_sequences(new_words_enc, truncating='post', \n",
    "                      padding='post', maxlen=max_len)\n",
    "results = model.predict(X_new)\n",
    "print(result.round(3))"
   ]
  },
  {
   "cell_type": "code",
   "execution_count": 166,
   "metadata": {},
   "outputs": [
    {
     "name": "stdout",
     "output_type": "stream",
     "text": [
      "[0.   0.   0.19 0.   0.7  0.   0.89 0.   0.   0.   0.86 0.03 1.   1.\n",
      " 0.  ]\n"
     ]
    }
   ],
   "source": [
    "#ทำนาย X_test 15 ต้วแรก \n",
    "result = model.predict(X_test[:15])\n",
    "print(np.squeeze(result).round(2))"
   ]
  },
  {
   "cell_type": "code",
   "execution_count": 167,
   "metadata": {},
   "outputs": [
    {
     "data": {
      "text/plain": [
       "[0, 0, 0, 0, 1, 0, 0, 0, 0, 0, 1, 1, 1, 1, 0]"
      ]
     },
     "execution_count": 167,
     "metadata": {},
     "output_type": "execute_result"
    }
   ],
   "source": [
    "#เปรียบเทียบกับค่าจริง y_test \n",
    "y_test[:15].tolist()"
   ]
  }
 ],
 "metadata": {
  "interpreter": {
   "hash": "628a0465dbd111405b4edd9d7b88a6fdbb764392335ef0e96f2e8a7899c710eb"
  },
  "kernelspec": {
   "display_name": "Python 3.9.10 64-bit ('myenv': conda)",
   "language": "python",
   "name": "python3"
  },
  "language_info": {
   "codemirror_mode": {
    "name": "ipython",
    "version": 3
   },
   "file_extension": ".py",
   "mimetype": "text/x-python",
   "name": "python",
   "nbconvert_exporter": "python",
   "pygments_lexer": "ipython3",
   "version": "3.9.10"
  },
  "orig_nbformat": 4
 },
 "nbformat": 4,
 "nbformat_minor": 2
}
